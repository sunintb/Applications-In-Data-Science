{
  "nbformat": 4,
  "nbformat_minor": 0,
  "metadata": {
    "interactive_sols": {
      "cbx_id": 1
    },
    "kernelspec": {
      "display_name": "Python 3",
      "language": "python",
      "name": "python3"
    },
    "language_info": {
      "codemirror_mode": {
        "name": "ipython",
        "version": 3
      },
      "file_extension": ".py",
      "mimetype": "text/x-python",
      "name": "python",
      "nbconvert_exporter": "python",
      "pygments_lexer": "ipython3",
      "version": "3.7.6"
    },
    "latex_envs": {
      "LaTeX_envs_menu_present": true,
      "autocomplete": true,
      "bibliofile": "biblio.bib",
      "cite_by": "apalike",
      "current_citInitial": 1,
      "eqLabelWithNumbers": true,
      "eqNumInitial": 1,
      "hotkeys": {
        "equation": "Ctrl-E",
        "itemize": "Ctrl-I"
      },
      "labels_anchors": false,
      "latex_user_defs": false,
      "report_style_numbering": false,
      "user_envs_cfg": false
    },
    "colab": {
      "name": "Copy of CS69.09 Assignment_3.ipynb",
      "provenance": [],
      "collapsed_sections": []
    }
  },
  "cells": [
    {
      "cell_type": "markdown",
      "metadata": {
        "id": "dFpR4YelWPLK",
        "colab_type": "text"
      },
      "source": [
        "## Your Name: Sunint Bindra\n",
        "\n",
        "\n",
        "## Your Collaborator's Name (if any): "
      ]
    },
    {
      "cell_type": "markdown",
      "metadata": {
        "id": "GOIy2FVzKy-9",
        "colab_type": "text"
      },
      "source": [
        "# Assignment 3. Regression\n",
        "\n",
        "In this homework, you will use regression to investigate in what condition would people rent bike rental more. \n",
        "\n",
        "### Data\n",
        "\n",
        "For this homework, you will use the following dataset:\n",
        "- Bike Sharing Dataset: http://archive.ics.uci.edu/ml/datasets/Bike+Sharing+Dataset\n",
        "\n",
        "\n",
        "### References\n",
        "\n",
        "- Chapter 11, 14, and 15 in Data Science from Scratch.\n",
        "- https://onlinecourses.science.psu.edu/stat501/\n",
        "- Fanaee-T, Hadi, and Gama, Joao, \"Event labeling combining ensemble detectors and background knowledge\", Progress in Artificial Intelligence (2013): pp. 1-15, Springer Berlin Heidelberg, doi:10.1007/s13748-013-0040-3.\n",
        "- [L1 and L2 Regularization Methods](https://towardsdatascience.com/l1-and-l2-regularization-methods-ce25e7fc831c)"
      ]
    },
    {
      "cell_type": "markdown",
      "metadata": {
        "id": "H-1Ee4t7Ky-_",
        "colab_type": "text"
      },
      "source": [
        "## Problem 1 What factors influence daily bike rental count\n",
        "\n",
        "The attached dataset ([bike_sharing_day.csv](https://drive.google.com/file/d/1UV9t92gFG9GhjGwWoQUdEJgxWMOc8GnR/view?usp=sharing)) contains the daily bike rental count and corresponding environmental and seasonal conditions, for example, weather conditions, precipitation, day of week, season, hour of the day. In this problem, you will use linear regression to find how these conditions affect bike rental count.\n",
        "\n",
        "The columns definition is as follows ([Readme.txt](https://drive.google.com/file/d/14ripL9wx4QtWk057SUVDm5b_uUW7HNyB/view?usp=sharing)):\n",
        "\n",
        "\t- instant: record index\n",
        "\t- dteday : date\n",
        "\t- season : season (1:springer, 2:summer, 3:fall, 4:winter)\n",
        "\t- yr : year (0: 2011, 1:2012)\n",
        "\t- mnth : month ( 1 to 12)\n",
        "\t- hr : hour (0 to 23)\n",
        "\t- holiday : weather day is holiday or not (extracted from http://dchr.dc.gov/page/holiday-schedule)\n",
        "\t- weekday : day of the week\n",
        "\t- workingday : if day is neither weekend nor holiday is 1, otherwise is 0.\n",
        "\t+ weathersit : \n",
        "\t\t- 1: Clear, Few clouds, Partly cloudy, Partly cloudy\n",
        "\t\t- 2: Mist + Cloudy, Mist + Broken clouds, Mist + Few clouds, Mist\n",
        "\t\t- 3: Light Snow, Light Rain + Thunderstorm + Scattered clouds, Light Rain + Scattered clouds\n",
        "\t\t- 4: Heavy Rain + Ice Pallets + Thunderstorm + Mist, Snow + Fog\n",
        "\t- temp : Normalized temperature in Celsius. The values are divided to 41 (max)\n",
        "\t- atemp: Normalized feeling temperature in Celsius. The values are divided to 50 (max)\n",
        "\t- hum: Normalized humidity. The values are divided to 100 (max)\n",
        "\t- windspeed: Normalized wind speed. The values are divided to 67 (max)\n",
        "\t- casual: count of casual users\n",
        "\t- registered: count of registered users\n",
        "\t- cnt: count of total rental bikes including both casual and registered"
      ]
    },
    {
      "cell_type": "markdown",
      "metadata": {
        "id": "vgV5d7e3Ky-_",
        "colab_type": "text"
      },
      "source": [
        "### Q1 Fit a linear regression model to show how windspeed, temp, atemp, hum, season, and weathersit affect  bike rental count [cnt] (20 pts) \n",
        "\n",
        "You should notice that windspeed, temp, atemp, and hum are continues variables whereas season, holiday, workingday, and weathersit are categorical variables. Your model should consider how to handle categorical variables. Use APIs from statsmodels to build your linear regression model. You can either use statsmodels.api.OLS or statsmodels.formula.api.ols. \n",
        "\n",
        "Print out the regression table and explain your results. Your explanation should include:\n",
        "#### - Goodness of Fit\n",
        "#### - Interpreting Coefficients of Continuous Predictor Variables\n",
        "#### - Interpreting Coefficients of Categorical Predictor Variables"
      ]
    },
    {
      "cell_type": "code",
      "metadata": {
        "id": "JqMCdIRuNX4q",
        "colab_type": "code",
        "colab": {}
      },
      "source": [
        "import pandas as pd"
      ],
      "execution_count": null,
      "outputs": []
    },
    {
      "cell_type": "code",
      "metadata": {
        "id": "3PqES4MINUAV",
        "colab_type": "code",
        "colab": {}
      },
      "source": [
        "# Code to read csv file into Colaboratory:\n",
        "!pip install -U -q PyDrive\n",
        "from pydrive.auth import GoogleAuth\n",
        "from pydrive.drive import GoogleDrive\n",
        "from google.colab import auth\n",
        "from oauth2client.client import GoogleCredentials\n",
        "# Authenticate and create the PyDrive client.\n",
        "auth.authenticate_user()\n",
        "gauth = GoogleAuth()\n",
        "gauth.credentials = GoogleCredentials.get_application_default()\n",
        "drive = GoogleDrive(gauth)"
      ],
      "execution_count": null,
      "outputs": []
    },
    {
      "cell_type": "code",
      "metadata": {
        "id": "nVoouLXBNiPR",
        "colab_type": "code",
        "colab": {}
      },
      "source": [
        "drive.CreateFile({'id': '1UV9t92gFG9GhjGwWoQUdEJgxWMOc8GnR'}).GetContentFile('bike_sharing_day.csv')"
      ],
      "execution_count": null,
      "outputs": []
    },
    {
      "cell_type": "code",
      "metadata": {
        "id": "sYpV3YJINP7Z",
        "colab_type": "code",
        "colab": {}
      },
      "source": [
        "bike_sharing_data = pd.read_csv('bike_sharing_day.csv')"
      ],
      "execution_count": null,
      "outputs": []
    },
    {
      "cell_type": "code",
      "metadata": {
        "id": "jyXogH6MNweD",
        "colab_type": "code",
        "colab": {
          "base_uri": "https://localhost:8080/",
          "height": 204
        },
        "outputId": "f981cafb-c785-4fdf-8bd8-cc6e705ad30c"
      },
      "source": [
        "bike_sharing_data.sample(frac=1).head(n=5)"
      ],
      "execution_count": null,
      "outputs": [
        {
          "output_type": "execute_result",
          "data": {
            "text/html": [
              "<div>\n",
              "<style scoped>\n",
              "    .dataframe tbody tr th:only-of-type {\n",
              "        vertical-align: middle;\n",
              "    }\n",
              "\n",
              "    .dataframe tbody tr th {\n",
              "        vertical-align: top;\n",
              "    }\n",
              "\n",
              "    .dataframe thead th {\n",
              "        text-align: right;\n",
              "    }\n",
              "</style>\n",
              "<table border=\"1\" class=\"dataframe\">\n",
              "  <thead>\n",
              "    <tr style=\"text-align: right;\">\n",
              "      <th></th>\n",
              "      <th>instant</th>\n",
              "      <th>dteday</th>\n",
              "      <th>season</th>\n",
              "      <th>yr</th>\n",
              "      <th>mnth</th>\n",
              "      <th>holiday</th>\n",
              "      <th>weekday</th>\n",
              "      <th>workingday</th>\n",
              "      <th>weathersit</th>\n",
              "      <th>temp</th>\n",
              "      <th>atemp</th>\n",
              "      <th>hum</th>\n",
              "      <th>windspeed</th>\n",
              "      <th>casual</th>\n",
              "      <th>registered</th>\n",
              "      <th>cnt</th>\n",
              "    </tr>\n",
              "  </thead>\n",
              "  <tbody>\n",
              "    <tr>\n",
              "      <th>143</th>\n",
              "      <td>144</td>\n",
              "      <td>2011-05-24</td>\n",
              "      <td>2</td>\n",
              "      <td>0</td>\n",
              "      <td>5</td>\n",
              "      <td>0</td>\n",
              "      <td>2</td>\n",
              "      <td>1</td>\n",
              "      <td>2</td>\n",
              "      <td>0.660000</td>\n",
              "      <td>0.604813</td>\n",
              "      <td>0.740833</td>\n",
              "      <td>0.207092</td>\n",
              "      <td>659</td>\n",
              "      <td>3833</td>\n",
              "      <td>4492</td>\n",
              "    </tr>\n",
              "    <tr>\n",
              "      <th>262</th>\n",
              "      <td>263</td>\n",
              "      <td>2011-09-20</td>\n",
              "      <td>3</td>\n",
              "      <td>0</td>\n",
              "      <td>9</td>\n",
              "      <td>0</td>\n",
              "      <td>2</td>\n",
              "      <td>1</td>\n",
              "      <td>2</td>\n",
              "      <td>0.561667</td>\n",
              "      <td>0.532217</td>\n",
              "      <td>0.881250</td>\n",
              "      <td>0.134954</td>\n",
              "      <td>438</td>\n",
              "      <td>3203</td>\n",
              "      <td>3641</td>\n",
              "    </tr>\n",
              "    <tr>\n",
              "      <th>87</th>\n",
              "      <td>88</td>\n",
              "      <td>2011-03-29</td>\n",
              "      <td>2</td>\n",
              "      <td>0</td>\n",
              "      <td>3</td>\n",
              "      <td>0</td>\n",
              "      <td>2</td>\n",
              "      <td>1</td>\n",
              "      <td>1</td>\n",
              "      <td>0.302500</td>\n",
              "      <td>0.292908</td>\n",
              "      <td>0.314167</td>\n",
              "      <td>0.226996</td>\n",
              "      <td>317</td>\n",
              "      <td>2108</td>\n",
              "      <td>2425</td>\n",
              "    </tr>\n",
              "    <tr>\n",
              "      <th>18</th>\n",
              "      <td>19</td>\n",
              "      <td>2011-01-19</td>\n",
              "      <td>1</td>\n",
              "      <td>0</td>\n",
              "      <td>1</td>\n",
              "      <td>0</td>\n",
              "      <td>3</td>\n",
              "      <td>1</td>\n",
              "      <td>2</td>\n",
              "      <td>0.292174</td>\n",
              "      <td>0.298422</td>\n",
              "      <td>0.741739</td>\n",
              "      <td>0.208317</td>\n",
              "      <td>78</td>\n",
              "      <td>1572</td>\n",
              "      <td>1650</td>\n",
              "    </tr>\n",
              "    <tr>\n",
              "      <th>207</th>\n",
              "      <td>208</td>\n",
              "      <td>2011-07-27</td>\n",
              "      <td>3</td>\n",
              "      <td>0</td>\n",
              "      <td>7</td>\n",
              "      <td>0</td>\n",
              "      <td>3</td>\n",
              "      <td>1</td>\n",
              "      <td>1</td>\n",
              "      <td>0.775000</td>\n",
              "      <td>0.690667</td>\n",
              "      <td>0.402917</td>\n",
              "      <td>0.183463</td>\n",
              "      <td>755</td>\n",
              "      <td>3901</td>\n",
              "      <td>4656</td>\n",
              "    </tr>\n",
              "  </tbody>\n",
              "</table>\n",
              "</div>"
            ],
            "text/plain": [
              "     instant      dteday  season  yr  ...  windspeed  casual  registered   cnt\n",
              "143      144  2011-05-24       2   0  ...   0.207092     659        3833  4492\n",
              "262      263  2011-09-20       3   0  ...   0.134954     438        3203  3641\n",
              "87        88  2011-03-29       2   0  ...   0.226996     317        2108  2425\n",
              "18        19  2011-01-19       1   0  ...   0.208317      78        1572  1650\n",
              "207      208  2011-07-27       3   0  ...   0.183463     755        3901  4656\n",
              "\n",
              "[5 rows x 16 columns]"
            ]
          },
          "metadata": {
            "tags": []
          },
          "execution_count": 6
        }
      ]
    },
    {
      "cell_type": "code",
      "metadata": {
        "id": "k6K6BB5fKy_A",
        "colab_type": "code",
        "colab": {
          "base_uri": "https://localhost:8080/",
          "height": 564
        },
        "outputId": "e7b267d1-f1e4-4af7-ab67-897e190073dd"
      },
      "source": [
        "# Imports and variables\n",
        "import numpy as np\n",
        "from statsmodels.formula.api import ols\n",
        "import matplotlib.pyplot as plt\n",
        "df = bike_sharing_data\n",
        "from statsmodels.stats.outliers_influence import variance_inflation_factor\n",
        "\n",
        "# Generating regression\n",
        "regression = ols(formula='cnt ~ windspeed + temp + atemp + hum + C(season) + C(holiday) + C(workingday) + C(weathersit)', data=df)\n",
        "\n",
        "# Fitting model\n",
        "model = regression.fit()\n",
        "\n",
        "# Display summary of results\n",
        "display(model.summary2())\n",
        "\n",
        "variables = model.model.exog\n",
        "vif = [variance_inflation_factor(variables, i) for i in range(variables.shape[1])]\n",
        "vif \n",
        "print(vif)\n",
        "\n"
      ],
      "execution_count": null,
      "outputs": [
        {
          "output_type": "display_data",
          "data": {
            "text/html": [
              "<table class=\"simpletable\">\n",
              "<tr>\n",
              "        <td>Model:</td>               <td>OLS</td>         <td>Adj. R-squared:</td>      <td>0.554</td>  \n",
              "</tr>\n",
              "<tr>\n",
              "  <td>Dependent Variable:</td>        <td>cnt</td>              <td>AIC:</td>         <td>12562.8499</td>\n",
              "</tr>\n",
              "<tr>\n",
              "         <td>Date:</td>        <td>2020-06-04 20:40</td>        <td>BIC:</td>         <td>12617.9829</td>\n",
              "</tr>\n",
              "<tr>\n",
              "   <td>No. Observations:</td>         <td>731</td>         <td>Log-Likelihood:</td>     <td>-6269.4</td> \n",
              "</tr>\n",
              "<tr>\n",
              "       <td>Df Model:</td>             <td>11</td>           <td>F-statistic:</td>        <td>83.27</td>  \n",
              "</tr>\n",
              "<tr>\n",
              "     <td>Df Residuals:</td>           <td>719</td>       <td>Prob (F-statistic):</td>  <td>2.56e-120</td>\n",
              "</tr>\n",
              "<tr>\n",
              "      <td>R-squared:</td>            <td>0.560</td>            <td>Scale:</td>        <td>1.6756e+06</td>\n",
              "</tr>\n",
              "</table>\n",
              "<table class=\"simpletable\">\n",
              "<tr>\n",
              "           <td></td>             <th>Coef.</th>   <th>Std.Err.</th>     <th>t</th>     <th>P>|t|</th>   <th>[0.025</th>     <th>0.975]</th>  \n",
              "</tr>\n",
              "<tr>\n",
              "  <th>Intercept</th>           <td>3061.1085</td> <td>360.2411</td>  <td>8.4974</td>  <td>0.0000</td>  <td>2353.8584</td>  <td>3768.3587</td>\n",
              "</tr>\n",
              "<tr>\n",
              "  <th>C(season)[T.2]</th>      <td>917.6644</td>  <td>178.5269</td>  <td>5.1402</td>  <td>0.0000</td>  <td>567.1681</td>   <td>1268.1608</td>\n",
              "</tr>\n",
              "<tr>\n",
              "  <th>C(season)[T.3]</th>      <td>469.1203</td>  <td>236.4066</td>  <td>1.9844</td>  <td>0.0476</td>   <td>4.9906</td>    <td>933.2501</td> \n",
              "</tr>\n",
              "<tr>\n",
              "  <th>C(season)[T.4]</th>      <td>1493.7920</td> <td>152.4691</td>  <td>9.7973</td>  <td>0.0000</td>  <td>1194.4540</td>  <td>1793.1299</td>\n",
              "</tr>\n",
              "<tr>\n",
              "  <th>C(holiday)[T.1]</th>     <td>-596.8185</td> <td>296.9185</td>  <td>-2.0100</td> <td>0.0448</td> <td>-1179.7493</td>  <td>-13.8877</td> \n",
              "</tr>\n",
              "<tr>\n",
              "  <th>C(workingday)[T.1]</th>  <td>101.1146</td>  <td>106.9350</td>  <td>0.9456</td>  <td>0.3447</td>  <td>-108.8276</td>  <td>311.0568</td> \n",
              "</tr>\n",
              "<tr>\n",
              "  <th>C(weathersit)[T.2]</th>  <td>-233.9494</td> <td>127.6902</td>  <td>-1.8322</td> <td>0.0673</td>  <td>-484.6396</td>   <td>16.7408</td> \n",
              "</tr>\n",
              "<tr>\n",
              "  <th>C(weathersit)[T.3]</th> <td>-1941.7010</td> <td>327.0346</td>  <td>-5.9373</td> <td>0.0000</td> <td>-2583.7577</td> <td>-1299.6442</td>\n",
              "</tr>\n",
              "<tr>\n",
              "  <th>windspeed</th>          <td>-3280.3364</td> <td>684.4460</td>  <td>-4.7927</td> <td>0.0000</td> <td>-4624.0879</td> <td>-1936.5849</td>\n",
              "</tr>\n",
              "<tr>\n",
              "  <th>temp</th>                <td>5818.3184</td> <td>2196.0856</td> <td>2.6494</td>  <td>0.0082</td>  <td>1506.8120</td> <td>10129.8248</td>\n",
              "</tr>\n",
              "<tr>\n",
              "  <th>atemp</th>               <td>406.0477</td>  <td>2399.3259</td> <td>0.1692</td>  <td>0.8657</td> <td>-4304.4741</td>  <td>5116.5694</td>\n",
              "</tr>\n",
              "<tr>\n",
              "  <th>hum</th>                <td>-2610.9173</td> <td>461.4506</td>  <td>-5.6581</td> <td>0.0000</td> <td>-3516.8688</td> <td>-1704.9657</td>\n",
              "</tr>\n",
              "</table>\n",
              "<table class=\"simpletable\">\n",
              "<tr>\n",
              "     <td>Omnibus:</td>    <td>20.043</td>  <td>Durbin-Watson:</td>    <td>0.439</td>\n",
              "</tr>\n",
              "<tr>\n",
              "  <td>Prob(Omnibus):</td>  <td>0.000</td> <td>Jarque-Bera (JB):</td> <td>11.580</td>\n",
              "</tr>\n",
              "<tr>\n",
              "       <td>Skew:</td>      <td>0.132</td>     <td>Prob(JB):</td>      <td>0.003</td>\n",
              "</tr>\n",
              "<tr>\n",
              "     <td>Kurtosis:</td>    <td>2.442</td>  <td>Condition No.:</td>     <td>112</td> \n",
              "</tr>\n",
              "</table>"
            ],
            "text/plain": [
              "<class 'statsmodels.iolib.summary2.Summary'>\n",
              "\"\"\"\n",
              "                      Results: Ordinary least squares\n",
              "============================================================================\n",
              "Model:                 OLS                 Adj. R-squared:        0.554     \n",
              "Dependent Variable:    cnt                 AIC:                   12562.8499\n",
              "Date:                  2020-06-04 20:40    BIC:                   12617.9829\n",
              "No. Observations:      731                 Log-Likelihood:        -6269.4   \n",
              "Df Model:              11                  F-statistic:           83.27     \n",
              "Df Residuals:          719                 Prob (F-statistic):    2.56e-120 \n",
              "R-squared:             0.560               Scale:                 1.6756e+06\n",
              "----------------------------------------------------------------------------\n",
              "                     Coef.     Std.Err.    t    P>|t|    [0.025     0.975]  \n",
              "----------------------------------------------------------------------------\n",
              "Intercept           3061.1085  360.2411  8.4974 0.0000  2353.8584  3768.3587\n",
              "C(season)[T.2]       917.6644  178.5269  5.1402 0.0000   567.1681  1268.1608\n",
              "C(season)[T.3]       469.1203  236.4066  1.9844 0.0476     4.9906   933.2501\n",
              "C(season)[T.4]      1493.7920  152.4691  9.7973 0.0000  1194.4540  1793.1299\n",
              "C(holiday)[T.1]     -596.8185  296.9185 -2.0100 0.0448 -1179.7493   -13.8877\n",
              "C(workingday)[T.1]   101.1146  106.9350  0.9456 0.3447  -108.8276   311.0568\n",
              "C(weathersit)[T.2]  -233.9494  127.6902 -1.8322 0.0673  -484.6396    16.7408\n",
              "C(weathersit)[T.3] -1941.7010  327.0346 -5.9373 0.0000 -2583.7577 -1299.6442\n",
              "windspeed          -3280.3364  684.4460 -4.7927 0.0000 -4624.0879 -1936.5849\n",
              "temp                5818.3184 2196.0856  2.6494 0.0082  1506.8120 10129.8248\n",
              "atemp                406.0477 2399.3259  0.1692 0.8657 -4304.4741  5116.5694\n",
              "hum                -2610.9173  461.4506 -5.6581 0.0000 -3516.8688 -1704.9657\n",
              "----------------------------------------------------------------------------\n",
              "Omnibus:                 20.043           Durbin-Watson:              0.439 \n",
              "Prob(Omnibus):           0.000            Jarque-Bera (JB):           11.580\n",
              "Skew:                    0.132            Prob(JB):                   0.003 \n",
              "Kurtosis:                2.442            Condition No.:              112   \n",
              "============================================================================\n",
              "\n",
              "\"\"\""
            ]
          },
          "metadata": {
            "tags": []
          }
        },
        {
          "output_type": "stream",
          "text": [
            "[56.61511909028398, 2.6189290184210763, 4.657876688030729, 1.8681861970856037, 1.0731568814440722, 1.0782837640739587, 1.5913605338419614, 1.301895338140891, 1.2257707233846418, 70.40346976507293, 66.60366763634129, 1.8819113378779688]\n"
          ],
          "name": "stdout"
        }
      ]
    },
    {
      "cell_type": "markdown",
      "metadata": {
        "id": "8VaF1tn6Ky_E",
        "colab_type": "text"
      },
      "source": [
        "The R^2 measure (goodness of fit test) is 0.560 for this model. This tells us \n",
        "As the R^2 is between 0.5 and 0.7 this is considered a moderate effect size. While the test is okay, a more robust test would require a higher R^2 score. The majority of outcome variance is explained by the OLS linear regression model, however some of the variance still remains unexplained. \n",
        "\n",
        "A positive coefficient on a categorical variable tells us that the cnt correlates with that specific category in the same direction if it is positive and in the opposite direction if it is negative. For example, we can see for the workingday categorical variable that bike rentals correlate when the day is a working day (neither holiday or weekend). This makes logical sense - bike rentals would go up when people are travelling to and from work, many on bikes. Conversly, for the holiday categorical variables bike rentals correlate negatively, meaning if it is a holiday the number of bike rentals goes down. This also makes logical sense - people are less likely to rent bikes on a holiday as they will be spending time with their families and not travelling. This logic can be applied to all the categorical variables. \n",
        "\n",
        "For the continuous variables, the same understanding applies that the cnt correlates in the same direction if it is positive coefficient and in the opposite direction if it is negative. For example, for atemp (the temp it feels like in Celsius) we see the coefficient is ~406. This means for every degree Celsius atemp increases, bike rentals go up by an average of ~406.  This logic can be applied to all the continuous variables. "
      ]
    },
    {
      "cell_type": "markdown",
      "metadata": {
        "id": "yuFFf3hNKy_E",
        "colab_type": "text"
      },
      "source": [
        "### Q2 Multicollinearity  (25 pts)\n",
        "\n",
        "Multicollinearity  is a phenomenon in which two or more of the predictors in a regression model are moderately or highly correlated.\n",
        "\n",
        "Compute and show VIF (Variance Inflation Factor) for each of the predictors in your model from Q1. You can use statsmodels.stats.outliers_influence.variance_inflation_factor to compute VIF. \n",
        "\n",
        "What predictors are correlated and can be removed? If there are any predictors that are redundant, remove them and fit the model again, print out the regression table and explain the differences in your result against Q1. \n",
        "\n",
        "Hint: if you suspect two predictors are redundant, experiement with removing either of the predictors."
      ]
    },
    {
      "cell_type": "code",
      "metadata": {
        "id": "1SWh5uHuKy_F",
        "colab_type": "code",
        "colab": {
          "base_uri": "https://localhost:8080/",
          "height": 1000
        },
        "outputId": "02c9c4ec-bdc7-427a-80c9-0b597fba4bfe"
      },
      "source": [
        "# Imports\n",
        "import numpy as np\n",
        "import statsmodels.api as sm\n",
        "import statsmodels.formula.api as smf\n",
        "import statsmodels.graphics \n",
        "import matplotlib.pyplot as plt\n",
        "from statsmodels.stats.outliers_influence import variance_inflation_factor\n",
        "df = bike_sharing_data\n",
        "\n",
        "# Generating and fitting the previous regression from Q1\n",
        "regression = ols(formula='cnt ~ windspeed + temp + atemp + hum + C(season) + C(holiday) + C(workingday) + C(weathersit)', data=df).fit()\n",
        "\n",
        "# Generating VIF values and printing in order is displayed in Q1 summary table\n",
        "variables = regression.model.exog\n",
        "vif = [variance_inflation_factor(variables, i) for i in range(variables.shape[1])]\n",
        "print(\"VIF Values in order of predictors from summary table\")\n",
        "print(vif)\n",
        "print('\\n')\n",
        "# Displaying linear regression summary \n",
        "display(regression.summary2())\n",
        "print('\\n')\n",
        "\n",
        "# X = [df.windspeed]\n",
        "# X[df.windspeed] = 1\n",
        "# vidModel = [variance_inflation_factor(df.windspeed, i) for i in range (df.windspeed[1])]\n",
        "# # VIFmodel = variance_inflation_factor(df.values, i) for i in range(df.windspeed[1])\n",
        "\n",
        "\n",
        "\n",
        "\n",
        "# General acceptance for high multicollinearity is VIF > 10\n",
        "# Thus, we will fit the model again removing predictors with high VIF\n",
        "\n",
        "# Generating and fitting regression removing temp and atemp - which have VIFs of ~70 and  ~66.7, respectively \n",
        "VIFComputation = ols(formula='cnt ~ windspeed + hum + C(season) + C(holiday) + C(workingday) + C(weathersit)', data=df).fit()\n",
        "\n",
        "# Computing and displaying VIF values and printing in order is displayed in Q1 summary table (with temp and atemp removed)\n",
        "variables = VIFComputation.model.exog\n",
        "vif = [variance_inflation_factor(variables, i) for i in range(variables.shape[1])]\n",
        "vif \n",
        "# Printing VIF's \n",
        "print(\"VIF Values in order of predictors from summary table with temp and atemp excluded\")\n",
        "print(vif)\n",
        "print('\\n')\n",
        "\n",
        "# Displaying linear regression summary \n",
        "display(VIFComputation.summary2())\n",
        "print('\\n')\n",
        "# display(vif.summary1())\n",
        "import statsmodels.graphics.api as smg"
      ],
      "execution_count": null,
      "outputs": [
        {
          "output_type": "stream",
          "text": [
            "VIF Values in order of predictors from summary table\n",
            "[56.61511909028398, 2.6189290184210763, 4.657876688030729, 1.8681861970856037, 1.0731568814440722, 1.0782837640739587, 1.5913605338419614, 1.301895338140891, 1.2257707233846418, 70.40346976507293, 66.60366763634129, 1.8819113378779688]\n",
            "\n",
            "\n"
          ],
          "name": "stdout"
        },
        {
          "output_type": "display_data",
          "data": {
            "text/html": [
              "<table class=\"simpletable\">\n",
              "<tr>\n",
              "        <td>Model:</td>               <td>OLS</td>         <td>Adj. R-squared:</td>      <td>0.554</td>  \n",
              "</tr>\n",
              "<tr>\n",
              "  <td>Dependent Variable:</td>        <td>cnt</td>              <td>AIC:</td>         <td>12562.8499</td>\n",
              "</tr>\n",
              "<tr>\n",
              "         <td>Date:</td>        <td>2020-06-04 20:42</td>        <td>BIC:</td>         <td>12617.9829</td>\n",
              "</tr>\n",
              "<tr>\n",
              "   <td>No. Observations:</td>         <td>731</td>         <td>Log-Likelihood:</td>     <td>-6269.4</td> \n",
              "</tr>\n",
              "<tr>\n",
              "       <td>Df Model:</td>             <td>11</td>           <td>F-statistic:</td>        <td>83.27</td>  \n",
              "</tr>\n",
              "<tr>\n",
              "     <td>Df Residuals:</td>           <td>719</td>       <td>Prob (F-statistic):</td>  <td>2.56e-120</td>\n",
              "</tr>\n",
              "<tr>\n",
              "      <td>R-squared:</td>            <td>0.560</td>            <td>Scale:</td>        <td>1.6756e+06</td>\n",
              "</tr>\n",
              "</table>\n",
              "<table class=\"simpletable\">\n",
              "<tr>\n",
              "           <td></td>             <th>Coef.</th>   <th>Std.Err.</th>     <th>t</th>     <th>P>|t|</th>   <th>[0.025</th>     <th>0.975]</th>  \n",
              "</tr>\n",
              "<tr>\n",
              "  <th>Intercept</th>           <td>3061.1085</td> <td>360.2411</td>  <td>8.4974</td>  <td>0.0000</td>  <td>2353.8584</td>  <td>3768.3587</td>\n",
              "</tr>\n",
              "<tr>\n",
              "  <th>C(season)[T.2]</th>      <td>917.6644</td>  <td>178.5269</td>  <td>5.1402</td>  <td>0.0000</td>  <td>567.1681</td>   <td>1268.1608</td>\n",
              "</tr>\n",
              "<tr>\n",
              "  <th>C(season)[T.3]</th>      <td>469.1203</td>  <td>236.4066</td>  <td>1.9844</td>  <td>0.0476</td>   <td>4.9906</td>    <td>933.2501</td> \n",
              "</tr>\n",
              "<tr>\n",
              "  <th>C(season)[T.4]</th>      <td>1493.7920</td> <td>152.4691</td>  <td>9.7973</td>  <td>0.0000</td>  <td>1194.4540</td>  <td>1793.1299</td>\n",
              "</tr>\n",
              "<tr>\n",
              "  <th>C(holiday)[T.1]</th>     <td>-596.8185</td> <td>296.9185</td>  <td>-2.0100</td> <td>0.0448</td> <td>-1179.7493</td>  <td>-13.8877</td> \n",
              "</tr>\n",
              "<tr>\n",
              "  <th>C(workingday)[T.1]</th>  <td>101.1146</td>  <td>106.9350</td>  <td>0.9456</td>  <td>0.3447</td>  <td>-108.8276</td>  <td>311.0568</td> \n",
              "</tr>\n",
              "<tr>\n",
              "  <th>C(weathersit)[T.2]</th>  <td>-233.9494</td> <td>127.6902</td>  <td>-1.8322</td> <td>0.0673</td>  <td>-484.6396</td>   <td>16.7408</td> \n",
              "</tr>\n",
              "<tr>\n",
              "  <th>C(weathersit)[T.3]</th> <td>-1941.7010</td> <td>327.0346</td>  <td>-5.9373</td> <td>0.0000</td> <td>-2583.7577</td> <td>-1299.6442</td>\n",
              "</tr>\n",
              "<tr>\n",
              "  <th>windspeed</th>          <td>-3280.3364</td> <td>684.4460</td>  <td>-4.7927</td> <td>0.0000</td> <td>-4624.0879</td> <td>-1936.5849</td>\n",
              "</tr>\n",
              "<tr>\n",
              "  <th>temp</th>                <td>5818.3184</td> <td>2196.0856</td> <td>2.6494</td>  <td>0.0082</td>  <td>1506.8120</td> <td>10129.8248</td>\n",
              "</tr>\n",
              "<tr>\n",
              "  <th>atemp</th>               <td>406.0477</td>  <td>2399.3259</td> <td>0.1692</td>  <td>0.8657</td> <td>-4304.4741</td>  <td>5116.5694</td>\n",
              "</tr>\n",
              "<tr>\n",
              "  <th>hum</th>                <td>-2610.9173</td> <td>461.4506</td>  <td>-5.6581</td> <td>0.0000</td> <td>-3516.8688</td> <td>-1704.9657</td>\n",
              "</tr>\n",
              "</table>\n",
              "<table class=\"simpletable\">\n",
              "<tr>\n",
              "     <td>Omnibus:</td>    <td>20.043</td>  <td>Durbin-Watson:</td>    <td>0.439</td>\n",
              "</tr>\n",
              "<tr>\n",
              "  <td>Prob(Omnibus):</td>  <td>0.000</td> <td>Jarque-Bera (JB):</td> <td>11.580</td>\n",
              "</tr>\n",
              "<tr>\n",
              "       <td>Skew:</td>      <td>0.132</td>     <td>Prob(JB):</td>      <td>0.003</td>\n",
              "</tr>\n",
              "<tr>\n",
              "     <td>Kurtosis:</td>    <td>2.442</td>  <td>Condition No.:</td>     <td>112</td> \n",
              "</tr>\n",
              "</table>"
            ],
            "text/plain": [
              "<class 'statsmodels.iolib.summary2.Summary'>\n",
              "\"\"\"\n",
              "                      Results: Ordinary least squares\n",
              "============================================================================\n",
              "Model:                 OLS                 Adj. R-squared:        0.554     \n",
              "Dependent Variable:    cnt                 AIC:                   12562.8499\n",
              "Date:                  2020-06-04 20:42    BIC:                   12617.9829\n",
              "No. Observations:      731                 Log-Likelihood:        -6269.4   \n",
              "Df Model:              11                  F-statistic:           83.27     \n",
              "Df Residuals:          719                 Prob (F-statistic):    2.56e-120 \n",
              "R-squared:             0.560               Scale:                 1.6756e+06\n",
              "----------------------------------------------------------------------------\n",
              "                     Coef.     Std.Err.    t    P>|t|    [0.025     0.975]  \n",
              "----------------------------------------------------------------------------\n",
              "Intercept           3061.1085  360.2411  8.4974 0.0000  2353.8584  3768.3587\n",
              "C(season)[T.2]       917.6644  178.5269  5.1402 0.0000   567.1681  1268.1608\n",
              "C(season)[T.3]       469.1203  236.4066  1.9844 0.0476     4.9906   933.2501\n",
              "C(season)[T.4]      1493.7920  152.4691  9.7973 0.0000  1194.4540  1793.1299\n",
              "C(holiday)[T.1]     -596.8185  296.9185 -2.0100 0.0448 -1179.7493   -13.8877\n",
              "C(workingday)[T.1]   101.1146  106.9350  0.9456 0.3447  -108.8276   311.0568\n",
              "C(weathersit)[T.2]  -233.9494  127.6902 -1.8322 0.0673  -484.6396    16.7408\n",
              "C(weathersit)[T.3] -1941.7010  327.0346 -5.9373 0.0000 -2583.7577 -1299.6442\n",
              "windspeed          -3280.3364  684.4460 -4.7927 0.0000 -4624.0879 -1936.5849\n",
              "temp                5818.3184 2196.0856  2.6494 0.0082  1506.8120 10129.8248\n",
              "atemp                406.0477 2399.3259  0.1692 0.8657 -4304.4741  5116.5694\n",
              "hum                -2610.9173  461.4506 -5.6581 0.0000 -3516.8688 -1704.9657\n",
              "----------------------------------------------------------------------------\n",
              "Omnibus:                 20.043           Durbin-Watson:              0.439 \n",
              "Prob(Omnibus):           0.000            Jarque-Bera (JB):           11.580\n",
              "Skew:                    0.132            Prob(JB):                   0.003 \n",
              "Kurtosis:                2.442            Condition No.:              112   \n",
              "============================================================================\n",
              "\n",
              "\"\"\""
            ]
          },
          "metadata": {
            "tags": []
          }
        },
        {
          "output_type": "stream",
          "text": [
            "\n",
            "\n",
            "VIF Values in order of predictors from summary table with temp and atemp excluded\n",
            "[49.26069484584752, 1.54289088739219, 1.6343211665796467, 1.627814410928868, 1.0709291854465617, 1.0731258246074942, 1.544881136845387, 1.2720526475007918, 1.1868829176186997, 1.8061321359292821]\n",
            "\n",
            "\n"
          ],
          "name": "stdout"
        },
        {
          "output_type": "display_data",
          "data": {
            "text/html": [
              "<table class=\"simpletable\">\n",
              "<tr>\n",
              "        <td>Model:</td>               <td>OLS</td>         <td>Adj. R-squared:</td>      <td>0.452</td>  \n",
              "</tr>\n",
              "<tr>\n",
              "  <td>Dependent Variable:</td>        <td>cnt</td>              <td>AIC:</td>         <td>12710.2602</td>\n",
              "</tr>\n",
              "<tr>\n",
              "         <td>Date:</td>        <td>2020-06-04 20:42</td>        <td>BIC:</td>         <td>12756.2043</td>\n",
              "</tr>\n",
              "<tr>\n",
              "   <td>No. Observations:</td>         <td>731</td>         <td>Log-Likelihood:</td>     <td>-6345.1</td> \n",
              "</tr>\n",
              "<tr>\n",
              "       <td>Df Model:</td>              <td>9</td>           <td>F-statistic:</td>        <td>67.98</td>  \n",
              "</tr>\n",
              "<tr>\n",
              "     <td>Df Residuals:</td>           <td>721</td>       <td>Prob (F-statistic):</td>  <td>3.35e-90</td> \n",
              "</tr>\n",
              "<tr>\n",
              "      <td>R-squared:</td>            <td>0.459</td>            <td>Scale:</td>        <td>2.0555e+06</td>\n",
              "</tr>\n",
              "</table>\n",
              "<table class=\"simpletable\">\n",
              "<tr>\n",
              "           <td></td>             <th>Coef.</th>   <th>Std.Err.</th>    <th>t</th>     <th>P>|t|</th>   <th>[0.025</th>     <th>0.975]</th>  \n",
              "</tr>\n",
              "<tr>\n",
              "  <th>Intercept</th>           <td>4320.6642</td> <td>372.1785</td> <td>11.6091</td> <td>0.0000</td>  <td>3589.9812</td>  <td>5051.3473</td>\n",
              "</tr>\n",
              "<tr>\n",
              "  <th>C(season)[T.2]</th>      <td>2389.1847</td> <td>151.7691</td> <td>15.7422</td> <td>0.0000</td>  <td>2091.2225</td>  <td>2687.1470</td>\n",
              "</tr>\n",
              "<tr>\n",
              "  <th>C(season)[T.3]</th>      <td>2899.4416</td> <td>155.0987</td> <td>18.6942</td> <td>0.0000</td>  <td>2594.9425</td>  <td>3203.9407</td>\n",
              "</tr>\n",
              "<tr>\n",
              "  <th>C(season)[T.4]</th>      <td>2188.6131</td> <td>157.6334</td> <td>13.8842</td> <td>0.0000</td>  <td>1879.1378</td>  <td>2498.0885</td>\n",
              "</tr>\n",
              "<tr>\n",
              "  <th>C(holiday)[T.1]</th>     <td>-512.8743</td> <td>328.5186</td> <td>-1.5612</td> <td>0.1189</td> <td>-1157.8416</td>  <td>132.0931</td> \n",
              "</tr>\n",
              "<tr>\n",
              "  <th>C(workingday)[T.1]</th>  <td>194.2487</td>  <td>118.1552</td> <td>1.6440</td>  <td>0.1006</td>  <td>-37.7206</td>   <td>426.2180</td> \n",
              "</tr>\n",
              "<tr>\n",
              "  <th>C(weathersit)[T.2]</th>  <td>-506.3613</td> <td>139.3461</td> <td>-3.6338</td> <td>0.0003</td>  <td>-779.9339</td>  <td>-232.7887</td>\n",
              "</tr>\n",
              "<tr>\n",
              "  <th>C(weathersit)[T.3]</th> <td>-2525.2551</td> <td>358.0405</td> <td>-7.0530</td> <td>0.0000</td> <td>-3228.1815</td> <td>-1822.3286</td>\n",
              "</tr>\n",
              "<tr>\n",
              "  <th>windspeed</th>          <td>-3362.9968</td> <td>745.9547</td> <td>-4.5083</td> <td>0.0000</td> <td>-4827.4997</td> <td>-1898.4940</td>\n",
              "</tr>\n",
              "<tr>\n",
              "  <th>hum</th>                <td>-1481.4579</td> <td>500.6963</td> <td>-2.9588</td> <td>0.0032</td> <td>-2464.4547</td>  <td>-498.4612</td>\n",
              "</tr>\n",
              "</table>\n",
              "<table class=\"simpletable\">\n",
              "<tr>\n",
              "     <td>Omnibus:</td>    <td>12.108</td>  <td>Durbin-Watson:</td>    <td>0.414</td>\n",
              "</tr>\n",
              "<tr>\n",
              "  <td>Prob(Omnibus):</td>  <td>0.002</td> <td>Jarque-Bera (JB):</td> <td>10.854</td>\n",
              "</tr>\n",
              "<tr>\n",
              "       <td>Skew:</td>      <td>0.241</td>     <td>Prob(JB):</td>      <td>0.004</td>\n",
              "</tr>\n",
              "<tr>\n",
              "     <td>Kurtosis:</td>    <td>2.649</td>  <td>Condition No.:</td>     <td>24</td>  \n",
              "</tr>\n",
              "</table>"
            ],
            "text/plain": [
              "<class 'statsmodels.iolib.summary2.Summary'>\n",
              "\"\"\"\n",
              "                      Results: Ordinary least squares\n",
              "===========================================================================\n",
              "Model:                  OLS                Adj. R-squared:       0.452     \n",
              "Dependent Variable:     cnt                AIC:                  12710.2602\n",
              "Date:                   2020-06-04 20:42   BIC:                  12756.2043\n",
              "No. Observations:       731                Log-Likelihood:       -6345.1   \n",
              "Df Model:               9                  F-statistic:          67.98     \n",
              "Df Residuals:           721                Prob (F-statistic):   3.35e-90  \n",
              "R-squared:              0.459              Scale:                2.0555e+06\n",
              "---------------------------------------------------------------------------\n",
              "                     Coef.    Std.Err.    t    P>|t|    [0.025     0.975]  \n",
              "---------------------------------------------------------------------------\n",
              "Intercept           4320.6642 372.1785 11.6091 0.0000  3589.9812  5051.3473\n",
              "C(season)[T.2]      2389.1847 151.7691 15.7422 0.0000  2091.2225  2687.1470\n",
              "C(season)[T.3]      2899.4416 155.0987 18.6942 0.0000  2594.9425  3203.9407\n",
              "C(season)[T.4]      2188.6131 157.6334 13.8842 0.0000  1879.1378  2498.0885\n",
              "C(holiday)[T.1]     -512.8743 328.5186 -1.5612 0.1189 -1157.8416   132.0931\n",
              "C(workingday)[T.1]   194.2487 118.1552  1.6440 0.1006   -37.7206   426.2180\n",
              "C(weathersit)[T.2]  -506.3613 139.3461 -3.6338 0.0003  -779.9339  -232.7887\n",
              "C(weathersit)[T.3] -2525.2551 358.0405 -7.0530 0.0000 -3228.1815 -1822.3286\n",
              "windspeed          -3362.9968 745.9547 -4.5083 0.0000 -4827.4997 -1898.4940\n",
              "hum                -1481.4579 500.6963 -2.9588 0.0032 -2464.4547  -498.4612\n",
              "---------------------------------------------------------------------------\n",
              "Omnibus:                  12.108          Durbin-Watson:             0.414 \n",
              "Prob(Omnibus):            0.002           Jarque-Bera (JB):          10.854\n",
              "Skew:                     0.241           Prob(JB):                  0.004 \n",
              "Kurtosis:                 2.649           Condition No.:             24    \n",
              "===========================================================================\n",
              "\n",
              "\"\"\""
            ]
          },
          "metadata": {
            "tags": []
          }
        },
        {
          "output_type": "stream",
          "text": [
            "\n",
            "\n"
          ],
          "name": "stdout"
        }
      ]
    },
    {
      "cell_type": "markdown",
      "metadata": {
        "id": "qxZcj3pkKy_J",
        "colab_type": "text"
      },
      "source": [
        "The R^2 value decreased by a slight margin; this can be expected when removing colinear predictors. The coefficients for C(season)[T.2], C(season)[T.3], C(season)[T.4], and C(workingday)[T.1] increased, meaning the magnitude of their positive correlation increased. \n",
        "\n",
        "increase: season 2, 3, 4, workingday1\n",
        "decreases: \n",
        "For some of the negative correlations the coefficients decreases in magnitude towards 0. These are C(holiday)[T.1], C(weathersit)[T.2], C(weathersit)[T.3], and humidity. \n",
        "It is interesting to note the negative correlation of windspeed increases in magnitude, but only marginally. \n",
        "\n",
        "The VIF values for retained predictors decreases when high VIF predictors were excluded. Evidently, the colinearity of the retained predictors has decreased. "
      ]
    },
    {
      "cell_type": "markdown",
      "metadata": {
        "id": "3epTaFqDKy_N",
        "colab_type": "text"
      },
      "source": [
        "## Problem 2 Prediction\n",
        "\n",
        "Now we turn to prediction. To solve this problem, you need to train a linear regression and can predict bike rental count, and properly evaluate your model. You can use models provided in scikit-learn."
      ]
    },
    {
      "cell_type": "markdown",
      "metadata": {
        "id": "kk3LwCHdKy_N",
        "colab_type": "text"
      },
      "source": [
        "### Q1 Train Your Prediction Model (20 pts)\n",
        "\n",
        "Train a linear regression model to predict rental count (cnt) using season, yr, mnth, holiday, weekday, workingday, weathersit, temp, atemp, hum, and windspeed. Use 10-fold cross-validation to validate your prediction model. \n",
        "\n",
        "Report MSE, MAE, confidence interval of MAE, and R-squared."
      ]
    },
    {
      "cell_type": "code",
      "metadata": {
        "id": "4ogBEAScKy_O",
        "colab_type": "code",
        "colab": {
          "base_uri": "https://localhost:8080/",
          "height": 899
        },
        "outputId": "eff5b8d2-cc59-41a0-f6ca-af6e6b8b7770"
      },
      "source": [
        "import matplotlib.pyplot as plt\n",
        "import numpy as np\n",
        "import scipy.stats as stats \n",
        "from sklearn import datasets, linear_model\n",
        "df = bike_sharing_data\n",
        "from sklearn.linear_model import LinearRegression\n",
        "from sklearn.metrics import mean_squared_error, r2_score\n",
        "from sklearn.model_selection import train_test_split\n",
        "X = df.drop(['cnt', 'instant', 'dteday', 'yr', 'mnth', 'weekday', 'temp', 'atemp', 'casual', 'registered'], axis =1)\n",
        "print(X)\n",
        "lm = LinearRegression()\n",
        "lm.fit(X, df.cnt)\n",
        "LinearRegression(copy_X = True, fit_intercept = True, normalize = False)\n",
        "print(lm.intercept_)\n",
        "print(len(lm.coef_))\n",
        "pd.DataFrame(zip(X.columns, lm.coef_), columns = ['features', 'coefficientsEstimate'])\n",
        "lm.predict(X)[0:5]\n",
        "plt.scatter(df.cnt, lm.predict(X))\n",
        "plt.xlabel(\"bike count\")\n",
        "plt.ylabel(\"Predicted bike count\")\n",
        "plt.title(\"bike count vs predicted bike count\")\n",
        "plt.show()\n",
        "mse = np.mean(((df.cnt - lm.predict(X))**2)/6)\n",
        "print('\\n')\n",
        "print(\"mseVal\")\n",
        "print(mse)\n",
        "\n",
        "X_train, X_test, Y_train, Y_test = train_test_split(X, df.cnt, test_size = 0.33, random_state = 5) \n",
        "lmPred = LinearRegression()\n",
        "lm.fit(X_train, Y_train)\n",
        "pred_train = lm.predict(X_train)\n",
        "pred_test = lm.predict(X_test)\n",
        "plt.scatter(lm.predict(X_train), lm.predict(X_train) - Y_train, c = 'b', s = 40, alpha = 0.05)\n",
        "plt.scatter(lm.predict(X_test), lm.predict(X_test) - Y_test, c = 'g', s = 40)\n",
        "plt.hlines(y=0, xmin = 0, xmax = 10000)\n",
        "plt.title(\"Plot of residuals with data - training (blue) and test (green)\")\n",
        "plt.ylabel(\"Residuals\")\n",
        "plt.show()"
      ],
      "execution_count": null,
      "outputs": [
        {
          "output_type": "stream",
          "text": [
            "     season  holiday  workingday  weathersit       hum  windspeed\n",
            "0         1        0           0           2  0.805833   0.160446\n",
            "1         1        0           0           2  0.696087   0.248539\n",
            "2         1        0           1           1  0.437273   0.248309\n",
            "3         1        0           1           1  0.590435   0.160296\n",
            "4         1        0           1           1  0.436957   0.186900\n",
            "..      ...      ...         ...         ...       ...        ...\n",
            "726       1        0           1           2  0.652917   0.350133\n",
            "727       1        0           1           2  0.590000   0.155471\n",
            "728       1        0           0           2  0.752917   0.124383\n",
            "729       1        0           0           1  0.483333   0.350754\n",
            "730       1        0           1           2  0.577500   0.154846\n",
            "\n",
            "[731 rows x 6 columns]\n",
            "5233.701047088168\n",
            "6\n"
          ],
          "name": "stdout"
        },
        {
          "output_type": "display_data",
          "data": {
            "image/png": "[encoded data removed]",
            "text/plain": [
              "<Figure size 432x288 with 1 Axes>"
            ]
          },
          "metadata": {
            "tags": [],
            "needs_background": "light"
          }
        },
        {
          "output_type": "stream",
          "text": [
            "\n",
            "\n",
            "mseVal\n",
            "445918.44270196126\n"
          ],
          "name": "stdout"
        },
        {
          "output_type": "display_data",
          "data": {
            "image/png": "[encoded data removed]",
            "text/plain": [
              "<Figure size 432x288 with 1 Axes>"
            ]
          },
          "metadata": {
            "tags": [],
            "needs_background": "light"
          }
        }
      ]
    }
  ]
}
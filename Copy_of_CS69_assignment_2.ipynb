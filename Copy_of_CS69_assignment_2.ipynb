{
  "nbformat": 4,
  "nbformat_minor": 0,
  "metadata": {
    "interactive_sols": {
      "cbx_id": 1
    },
    "kernelspec": {
      "display_name": "Python 3",
      "language": "python",
      "name": "python3"
    },
    "language_info": {
      "codemirror_mode": {
        "name": "ipython",
        "version": 3
      },
      "file_extension": ".py",
      "mimetype": "text/x-python",
      "name": "python",
      "nbconvert_exporter": "python",
      "pygments_lexer": "ipython3",
      "version": "3.7.6"
    },
    "latex_envs": {
      "LaTeX_envs_menu_present": true,
      "autocomplete": true,
      "bibliofile": "biblio.bib",
      "cite_by": "apalike",
      "current_citInitial": 1,
      "eqLabelWithNumbers": true,
      "eqNumInitial": 1,
      "hotkeys": {
        "equation": "Ctrl-E",
        "itemize": "Ctrl-I"
      },
      "labels_anchors": false,
      "latex_user_defs": false,
      "report_style_numbering": false,
      "user_envs_cfg": false
    },
    "colab": {
      "name": "Copy of CS69 assignment_2.ipynb",
      "provenance": [],
      "collapsed_sections": []
    }
  },
  "cells": [
    {
      "cell_type": "markdown",
      "metadata": {
        "id": "uDAJHKo_BY0-",
        "colab_type": "text"
      },
      "source": [
        "# Assignment 2. Statistical Tests\n",
        "\n",
        "## Introduction\n",
        "\n",
        "In this homework, we ask you to write python code to answer questions regarding some datasets. We will learn how to restructure the dataset for our analysis, applying statistal tests on the data, and drawing conclusions from our analysis. \n",
        "\n",
        "### Data\n",
        "\n",
        "For this homework, we will use these datasets.\n",
        "1. Auto-MPG: https://www.kaggle.com/uciml/autompg-dataset/data\n",
        "2. NOAA Hanover Climate Data: https://www.ncdc.noaa.gov/cdo-web/\n",
        "3. COVID-19 Data in the United States: https://github.com/nytimes/covid-19-data\n",
        "\n",
        "### References\n",
        "\n",
        "Chapter 5, 6, and 7 in Data Science from Scatch.\n",
        "Select statistical tests:\n",
        "- https://stats.idre.ucla.edu/other/mult-pkg/whatstat/\n",
        "- https://towardsdatascience.com/statistical-tests-when-to-use-which-704557554740"
      ]
    },
    {
      "cell_type": "markdown",
      "metadata": {
        "id": "PcZHiK62BY0_",
        "colab_type": "text"
      },
      "source": [
        "# Problem 1 MPG of Vehicles from Different Origin\n",
        "\n",
        "The attached MPG dataset ([auto-mpg.csv](https://drive.google.com/file/d/1l_Z3KKAvGt5iz2mcsAfyqJaBRudqjqdq/view?usp=sharing)) contains the MPG of vehicles made by American, European, and Japaness car  makers. We use the data set to answer the following questions.\n",
        "\n",
        "The column names of the dataset are: 'mpg', 'cylinders', 'displacement', 'horsepower', 'weight', 'acceleration', 'model year', 'origin', 'car name'.\n",
        "\n",
        "For the 'origin' column: **1-America, 2-Europe. 3-Japan**"
      ]
    },
    {
      "cell_type": "markdown",
      "metadata": {
        "id": "mYDWi2ACBY1A",
        "colab_type": "text"
      },
      "source": [
        "## Q1 Load the dataset to a pandas dataframe."
      ]
    },
    {
      "cell_type": "code",
      "metadata": {
        "id": "UqlrZwFzBY1A",
        "colab_type": "code",
        "colab": {}
      },
      "source": [
        "import pandas as pd\n",
        "from matplotlib import pyplot as plt\n",
        "import statsmodels.api\n",
        "import scipy.stats as stats\n",
        "import pylab\n",
        "%matplotlib inline"
      ],
      "execution_count": null,
      "outputs": []
    },
    {
      "cell_type": "code",
      "metadata": {
        "id": "FdBYUqC7FidB",
        "colab_type": "code",
        "colab": {}
      },
      "source": [
        "# Code to read csv file into Colaboratory:\n",
        "!pip install -U -q PyDrive\n",
        "from pydrive.auth import GoogleAuth\n",
        "from pydrive.drive import GoogleDrive\n",
        "from google.colab import auth\n",
        "from oauth2client.client import GoogleCredentials\n",
        "# Authenticate and create the PyDrive client.\n",
        "auth.authenticate_user()\n",
        "gauth = GoogleAuth()\n",
        "gauth.credentials = GoogleCredentials.get_application_default()\n",
        "drive = GoogleDrive(gauth)"
      ],
      "execution_count": null,
      "outputs": []
    },
    {
      "cell_type": "code",
      "metadata": {
        "id": "ooXvyJjNFo4O",
        "colab_type": "code",
        "colab": {}
      },
      "source": [
        "drive.CreateFile({'id': '1l_Z3KKAvGt5iz2mcsAfyqJaBRudqjqdq'}).GetContentFile('auto-mpg.csv')"
      ],
      "execution_count": null,
      "outputs": []
    },
    {
      "cell_type": "code",
      "metadata": {
        "id": "l3gA1RO8BY1E",
        "colab_type": "code",
        "colab": {}
      },
      "source": [
        "headers = ['mpg','cylinders','displacement','horsepower','weight','acceleration','model year','origin','car name']\n",
        "mpg_data = pd.read_csv('auto-mpg.csv', usecols=headers)"
      ],
      "execution_count": null,
      "outputs": []
    },
    {
      "cell_type": "code",
      "metadata": {
        "id": "2Ytzvg4yHCR8",
        "colab_type": "code",
        "colab": {
          "base_uri": "https://localhost:8080/",
          "height": 202
        },
        "outputId": "e50ef3d5-a7fc-457b-8c5d-e6dc811331f5"
      },
      "source": [
        "mpg_data.sample(frac=1).head(n=5)"
      ],
      "execution_count": null,
      "outputs": [
        {
          "output_type": "execute_result",
          "data": {
            "text/html": [
              "<div>\n",
              "<style scoped>\n",
              "    .dataframe tbody tr th:only-of-type {\n",
              "        vertical-align: middle;\n",
              "    }\n",
              "\n",
              "    .dataframe tbody tr th {\n",
              "        vertical-align: top;\n",
              "    }\n",
              "\n",
              "    .dataframe thead th {\n",
              "        text-align: right;\n",
              "    }\n",
              "</style>\n",
              "<table border=\"1\" class=\"dataframe\">\n",
              "  <thead>\n",
              "    <tr style=\"text-align: right;\">\n",
              "      <th></th>\n",
              "      <th>mpg</th>\n",
              "      <th>cylinders</th>\n",
              "      <th>displacement</th>\n",
              "      <th>horsepower</th>\n",
              "      <th>weight</th>\n",
              "      <th>acceleration</th>\n",
              "      <th>model year</th>\n",
              "      <th>origin</th>\n",
              "      <th>car name</th>\n",
              "    </tr>\n",
              "  </thead>\n",
              "  <tbody>\n",
              "    <tr>\n",
              "      <th>228</th>\n",
              "      <td>18.5</td>\n",
              "      <td>6</td>\n",
              "      <td>250.0</td>\n",
              "      <td>98</td>\n",
              "      <td>3525</td>\n",
              "      <td>19.0</td>\n",
              "      <td>77</td>\n",
              "      <td>1</td>\n",
              "      <td>ford granada</td>\n",
              "    </tr>\n",
              "    <tr>\n",
              "      <th>74</th>\n",
              "      <td>13.0</td>\n",
              "      <td>8</td>\n",
              "      <td>302.0</td>\n",
              "      <td>140</td>\n",
              "      <td>4294</td>\n",
              "      <td>16.0</td>\n",
              "      <td>72</td>\n",
              "      <td>1</td>\n",
              "      <td>ford gran torino (sw)</td>\n",
              "    </tr>\n",
              "    <tr>\n",
              "      <th>347</th>\n",
              "      <td>37.0</td>\n",
              "      <td>4</td>\n",
              "      <td>85.0</td>\n",
              "      <td>65</td>\n",
              "      <td>1975</td>\n",
              "      <td>19.4</td>\n",
              "      <td>81</td>\n",
              "      <td>3</td>\n",
              "      <td>datsun 210 mpg</td>\n",
              "    </tr>\n",
              "    <tr>\n",
              "      <th>30</th>\n",
              "      <td>28.0</td>\n",
              "      <td>4</td>\n",
              "      <td>140.0</td>\n",
              "      <td>90</td>\n",
              "      <td>2264</td>\n",
              "      <td>15.5</td>\n",
              "      <td>71</td>\n",
              "      <td>1</td>\n",
              "      <td>chevrolet vega 2300</td>\n",
              "    </tr>\n",
              "    <tr>\n",
              "      <th>98</th>\n",
              "      <td>16.0</td>\n",
              "      <td>6</td>\n",
              "      <td>250.0</td>\n",
              "      <td>100</td>\n",
              "      <td>3278</td>\n",
              "      <td>18.0</td>\n",
              "      <td>73</td>\n",
              "      <td>1</td>\n",
              "      <td>chevrolet nova custom</td>\n",
              "    </tr>\n",
              "  </tbody>\n",
              "</table>\n",
              "</div>"
            ],
            "text/plain": [
              "      mpg  cylinders  displacement  ... model year  origin               car name\n",
              "228  18.5          6         250.0  ...         77       1           ford granada\n",
              "74   13.0          8         302.0  ...         72       1  ford gran torino (sw)\n",
              "347  37.0          4          85.0  ...         81       3         datsun 210 mpg\n",
              "30   28.0          4         140.0  ...         71       1    chevrolet vega 2300\n",
              "98   16.0          6         250.0  ...         73       1  chevrolet nova custom\n",
              "\n",
              "[5 rows x 9 columns]"
            ]
          },
          "metadata": {
            "tags": []
          },
          "execution_count": 36
        }
      ]
    },
    {
      "cell_type": "markdown",
      "metadata": {
        "id": "K7bxYlP0BY1I",
        "colab_type": "text"
      },
      "source": [
        "## Q2 Plot the histograms of cars from different origins. (5 pts)\n",
        "\n",
        "A histogram looks like [this](https://bespokeblog.wordpress.com/2011/07/11/basic-data-plotting-with-matplotlib-part-3-histograms/)."
      ]
    },
    {
      "cell_type": "code",
      "metadata": {
        "id": "l9jV-E4JBY1I",
        "colab_type": "code",
        "colab": {
          "base_uri": "https://localhost:8080/",
          "height": 294
        },
        "outputId": "b5bc4bde-18f6-4a23-bd19-8ec478a12f1b"
      },
      "source": [
        "#use mpg_data from Q1 to make a histogram. Tweaked bin\n",
        "plt.hist(mpg_data.origin, bins=25)\n",
        "plt.title('Cars from Different Origins')\n",
        "plt.xlabel('Origin')\n",
        "plt.ylabel('Number of Cars')\n",
        "plt.show()"
      ],
      "execution_count": null,
      "outputs": [
        {
          "output_type": "display_data",
          "data": {
            "image/png": "[encoded data removed]",
            "text/plain": [
              "<Figure size 432x288 with 1 Axes>"
            ]
          },
          "metadata": {
            "tags": [],
            "needs_background": "light"
          }
        }
      ]
    },
    {
      "cell_type": "markdown",
      "metadata": {
        "id": "rL_-kXwoBY1L",
        "colab_type": "text"
      },
      "source": [
        "## Q3 Plot the boxplots to inspect the distributions of vehicles' MPG. (5 pts)\n",
        "\n",
        "In this question, we look at the MPG distribution in different groups. Make three boxplots to inspect the distribution:\n",
        "1. MPG from different origins\n",
        "2. MPG of different number of cylinders\n",
        "3. MPG of different model years\n",
        "\n",
        "A boxplot looks like [this](https://matplotlib.org/examples/pylab_examples/boxplot_demo.html):\n",
        "\n",
        "<img src=\"https://matplotlib.org/_images/boxplot_demo_06.png\" align=\"left\" style=\"width: 400px;\"/>"
      ]
    },
    {
      "cell_type": "code",
      "metadata": {
        "id": "kAd5Hzr6BY1L",
        "colab_type": "code",
        "colab": {
          "base_uri": "https://localhost:8080/",
          "height": 869
        },
        "outputId": "4911eb14-b0df-4549-d4b9-daf6bdf42043"
      },
      "source": [
        "# Import data \n",
        "data = mpg_data\n",
        "\n",
        "#Generate 3 boxplots with custom name and y-label \n",
        "\n",
        "data.boxplot(column='mpg', by='origin')\n",
        "plt.title('mpg from Different Origins')\n",
        "plt.ylabel('mpg')\n",
        "\n",
        "data.boxplot(column='mpg', by='cylinders')\n",
        "plt.title('mpg from Different Origins')\n",
        "plt.ylabel('mpg')\n",
        "\n",
        "data.boxplot(column='mpg', by='model year')\n",
        "plt.title('mpg from Different Origins')\n",
        "plt.ylabel('mpg')\n",
        "plt.show()\n"
      ],
      "execution_count": null,
      "outputs": [
        {
          "output_type": "display_data",
          "data": {
            "image/png": "[encoded data removed]",
            "text/plain": [
              "<Figure size 432x288 with 1 Axes>"
            ]
          },
          "metadata": {
            "tags": [],
            "needs_background": "light"
          }
        },
        {
          "output_type": "display_data",
          "data": {
            "image/png": "[encoded data removed]",
            "text/plain": [
              "<Figure size 432x288 with 1 Axes>"
            ]
          },
          "metadata": {
            "tags": [],
            "needs_background": "light"
          }
        },
        {
          "output_type": "display_data",
          "data": {
            "image/png": "[encoded data removed]",
            "text/plain": [
              "<Figure size 432x288 with 1 Axes>"
            ]
          },
          "metadata": {
            "tags": [],
            "needs_background": "light"
          }
        }
      ]
    },
    {
      "cell_type": "markdown",
      "metadata": {
        "id": "Ffr2R6thBY1N",
        "colab_type": "text"
      },
      "source": [
        "## Q4 Inspect the distribution. (10 pts)\n",
        "\n",
        "Now we use [Q–Q (quantile-quantile) plot](https://en.wikipedia.org/wiki/Q–Q_plot) to compare the MPG data to a normal distribution.\n",
        "\n",
        "Use [statsmodels.graphics.gofplots.qqplot](http://www.statsmodels.org/dev/generated/statsmodels.graphics.gofplots.qqplot.html) to make the following 4 plots:\n",
        "1. All MPG\n",
        "2. MPG of American cars\n",
        "3. MPG of European cars\n",
        "4. MPG of Janpanese cars"
      ]
    },
    {
      "cell_type": "code",
      "metadata": {
        "id": "8n0irxj9BY1O",
        "colab_type": "code",
        "colab": {
          "base_uri": "https://localhost:8080/",
          "height": 1000
        },
        "outputId": "0e9cc572-1d9f-4e19-9bd6-6fd45c6461dc"
      },
      "source": [
        "# Pull data out based on Origin number\n",
        "origin1 = (mpg_data[mpg_data.origin == 1])\n",
        "origin2 = (mpg_data[mpg_data.origin == 2])\n",
        "origin3 = (mpg_data[mpg_data.origin == 3])\n",
        "\n",
        "#use Origin_.mpg to get mpg data of specific origin, then plot the graph\n",
        "origin1.mpg.hist()\n",
        "plt.show()\n",
        "\n",
        "# plot data of all cars by using mpg_data\n",
        "statsmodels.graphics.gofplots.qqplot(mpg_data.mpg)\n",
        "plt.title(\"MPG for All cars\")\n",
        "\n",
        "statsmodels.graphics.gofplots.qqplot(origin1.mpg)\n",
        "plt.title(\"MPG for American Origin\")\n",
        "plt.show()\n",
        "\n",
        "statsmodels.graphics.gofplots.qqplot(origin2.mpg)\n",
        "plt.title(\"MPG for European Origin\")\n",
        "plt.show()\n",
        "\n",
        "statsmodels.graphics.gofplots.qqplot(origin3.mpg)\n",
        "plt.title(\"MPG for Japanese Origin\")\n",
        "plt.show()\n"
      ],
      "execution_count": null,
      "outputs": [
        {
          "output_type": "display_data",
          "data": {
            "image/png": "[encoded data removed]",
            "text/plain": [
              "<Figure size 432x288 with 1 Axes>"
            ]
          },
          "metadata": {
            "tags": [],
            "needs_background": "light"
          }
        },
        {
          "output_type": "display_data",
          "data": {
            "image/png": "[encoded data removed]",
            "text/plain": [
              "<Figure size 432x288 with 1 Axes>"
            ]
          },
          "metadata": {
            "tags": [],
            "needs_background": "light"
          }
        },
        {
          "output_type": "display_data",
          "data": {
            "image/png": "[encoded data removed]",
            "text/plain": [
              "<Figure size 432x288 with 1 Axes>"
            ]
          },
          "metadata": {
            "tags": [],
            "needs_background": "light"
          }
        },
        {
          "output_type": "display_data",
          "data": {
            "image/png": "[encoded data removed]",
            "text/plain": [
              "<Figure size 432x288 with 1 Axes>"
            ]
          },
          "metadata": {
            "tags": [],
            "needs_background": "light"
          }
        },
        {
          "output_type": "display_data",
          "data": {
            "image/png": "[encoded data removed]",
            "text/plain": [
              "<Figure size 432x288 with 1 Axes>"
            ]
          },
          "metadata": {
            "tags": [],
            "needs_background": "light"
          }
        }
      ]
    },
    {
      "cell_type": "markdown",
      "metadata": {
        "id": "rX6iS7zrBY1U",
        "colab_type": "text"
      },
      "source": [
        "## Q5 Compute and visualize confidence intervals. (10 pts)\n",
        "\n",
        "Confidence interval is a range of values that there is a probability (e.g., 95%) that the true value lies within the range. Check [here](https://online.stat.psu.edu/stat500/lesson/5) for more information.\n",
        "\n",
        "Compute the 95% confidence intervals for:\n",
        "1. American cars (origin=1)\n",
        "2. European cars (origin=2)\n",
        "3. Japanese cars (origin=3)\n",
        "\n",
        "Print out the intervals, e.g., \"95% CI for US cars: 18-21\"\n",
        "\n",
        "Make plot to compare the three confidence intervals. You may make different types of plots to show the CIs. One example:\n",
        "\n",
        "<img src=\"https://i.stack.imgur.com/YW6Me.png\" align=\"left\" style=\"width: 400px;\"/>\n"
      ]
    },
    {
      "cell_type": "code",
      "metadata": {
        "id": "vHG3FwYCBY1U",
        "colab_type": "code",
        "colab": {
          "base_uri": "https://localhost:8080/",
          "height": 369
        },
        "outputId": "7c829b99-a540-4edb-9d9b-73cda92196b1"
      },
      "source": [
        "#Imports \n",
        "import numpy as np\n",
        "import scipy \n",
        "import math\n",
        "data = mpg_data\n",
        "\n",
        "# Setting variables \n",
        "origin1 = (mpg_data[mpg_data.origin == 1])\n",
        "origin2 = (mpg_data[mpg_data.origin == 2])\n",
        "origin3 = (mpg_data[mpg_data.origin == 3])\n",
        "x1 = origin1.mpg.mean()\n",
        "x2 = origin2.mpg.mean()\n",
        "x3 = origin3.mpg.mean()\n",
        "SD1 = origin1.mpg.std()\n",
        "SD2 = origin2.mpg.std()\n",
        "SD3 = origin3.mpg.std()\n",
        "n1 = math.sqrt(origin1.shape[0])\n",
        "n2 = math.sqrt(origin1.shape[0])\n",
        "n3 = math.sqrt(origin1.shape[0])\n",
        "\n",
        "# Generating and printing confidence interval for American Cars \n",
        "CI1low = x1 - 1.96*(SD1/n1)\n",
        "CI1high = x1 + 1.96*(SD1/n1)\n",
        "print(\"95% CI for US cars\") \n",
        "print(CI1low, CI1high)\n",
        "\n",
        "\n",
        "# Generating and printing confidence interval for European Cars \n",
        "CI2low = x2 - 1.96*(SD2/n2)\n",
        "CI2high = x2 + 1.96*(SD2/n2)\n",
        "print(\"95% CI for European cars\") \n",
        "print(CI2low, CI2high)\n",
        "\n",
        "# Generating and printing confidence interval for Japanese Cars \n",
        "CI3low = x3 - 1.96*(SD3/n3)\n",
        "CI3high = x3 + 1.96*(SD3/n3)\n",
        "print(\"95% CI for Japanese cars\") \n",
        "print(CI3low, CI3high)\n",
        "\n",
        "# Displaying plot of error bars \n",
        "plt.errorbar(1, x1, yerr=1.96*(SD1/n1), fmt='o')\n",
        "plt.errorbar(2, x2, yerr=1.96*(SD2/n2), fmt='o')\n",
        "plt.errorbar(3, x3, yerr=1.96*(SD3/n3), fmt='o')\n",
        "plt.show()\n",
        "\n",
        "\n",
        "\n",
        "\n"
      ],
      "execution_count": null,
      "outputs": [
        {
          "output_type": "stream",
          "text": [
            "95% CI for US cars\n",
            "19.28823121951037 20.878837053581986\n",
            "95% CI for European cars\n",
            "27.056249586085354 28.726607556771793\n",
            "95% CI for Japanese cars\n",
            "29.694188326256416 31.207077496528377\n"
          ],
          "name": "stdout"
        },
        {
          "output_type": "display_data",
          "data": {
            "image/png": "[encoded data removed]",
            "text/plain": [
              "<Figure size 432x288 with 1 Axes>"
            ]
          },
          "metadata": {
            "tags": [],
            "needs_background": "light"
          }
        }
      ]
    },
    {
      "cell_type": "markdown",
      "metadata": {
        "id": "FMAEjczoBY1W",
        "colab_type": "text"
      },
      "source": [
        "## Q6 Are MPGs significantly different between origin groups? (20 pts)\n",
        "\n",
        "In this question, we will use two methods to determine if the mean MPGs of cars from different origin are significantly different. \n",
        "\n",
        "**Method 1 - one-way ANOVA**\n",
        "Use [statsmodels.stats.anova.anova_lm](http://www.statsmodels.org/dev/generated/statsmodels.stats.anova.anova_lm.html) to do ANOVA. Print out the ANOVA table. **Explain the results**.\n",
        "\n",
        "**Method 2 - Kruskal–Wallis one-way analysis of variance**\n",
        "Kruskal–Wallis is a the non-parametric method to test whether or not the samples are drawn from the same distribution. Use [scipy.stats.kruskal](https://docs.scipy.org/doc/scipy-0.19.1/reference/generated/scipy.stats.kruskal.html) to do the analysis, print out the statistics, and **explain the results**.\n"
      ]
    },
    {
      "cell_type": "code",
      "metadata": {
        "id": "qxlO9Ng8BY1X",
        "colab_type": "code",
        "colab": {
          "base_uri": "https://localhost:8080/",
          "height": 86
        },
        "outputId": "43bfcb5a-f48c-42bc-d24d-05187ad7196e"
      },
      "source": [
        "# Method 1 - Generating Anova Table \n",
        "from statsmodels.formula.api import ols\n",
        "lm = ols('mpg ~ C(origin)',data=mpg_data).fit()\n",
        "anova_table = statsmodels.api.stats.anova_lm(lm)\n",
        "print(anova_table)\n",
        "\n",
        "#For origin data we see significant correlation as \n",
        "# Method 2 - Generating Kruskal-Wallis one-way analysis of variance \n",
        "kruskal_wallis_table = stats.kruskal(mpg_data.query('origin==1')['mpg'], mpg_data.query('origin==2')['mpg'], mpg_data.query('origin==3')['mpg'])\n",
        "print(kruskal_wallis_table) "
      ],
      "execution_count": null,
      "outputs": [
        {
          "output_type": "stream",
          "text": [
            "              df        sum_sq      mean_sq          F        PR(>F)\n",
            "C(origin)    2.0   8072.820662  4036.410331  98.541795  1.915486e-35\n",
            "Residual   395.0  16179.754815    40.961405        NaN           NaN\n",
            "KruskalResult(statistic=134.45665866995384, pvalue=6.354882752621894e-30)\n"
          ],
          "name": "stdout"
        }
      ]
    },
    {
      "cell_type": "markdown",
      "metadata": {
        "id": "zVCvMoVhBY1Z",
        "colab_type": "text"
      },
      "source": [
        "Method 1 - The F-stat on this ANOVA test is much larger than the critical value at an alpha level of 0.05. Thus, we can reject the null hypothesis and have found a statistically significant relationship that the mean MPG's of cars from different origins aare significantly different. However, from the plots in Q4 we know the data is non-parametric, while ANOVA tests are the parametric method. In this case, the Kruskal method is preferrable. \n",
        "\n",
        "Method 2 - The t-score on this Kruskal-Wallis ANOVA is much smaller than the statistically significant score at alpha level of 0.05. Thus, we can also reject the null hypothesis using this method and found a statistically significant difference between the mean MPG's of cars from different origins. \n",
        "\n"
      ]
    },
    {
      "cell_type": "markdown",
      "metadata": {
        "id": "3OKLFYETsQoM",
        "colab_type": "text"
      },
      "source": [
        "From Method 1 the F-stat is much larger than the critical value at an alpha level = 0.05. Thus, have found a statistically significant relationship and can reject the null hypothesis. Note that the ANOVA assumes parametric data, which we know from Q4 is not the case here. The Kruskal test is thus a more accurate model as it is a non-parametric method. \n",
        "\n",
        "From Method 2 the t-score is much less than the significance level for 0.05, thus we have found a statistically significant relationship and can reject the null hypothesis. As the Kruskal test is the non-parametric method, the data is more fit to this model to determine statistical correlations.  "
      ]
    },
    {
      "cell_type": "markdown",
      "metadata": {
        "id": "AqdoM49eBY1c",
        "colab_type": "text"
      },
      "source": [
        "## Q7 Compare the means of two groups. (20 pts)\n",
        "\n",
        "In this question, we will use three methods to determine if the mean MPGs of American cars and Japanese cars are different.\n",
        "\n",
        "**Method 1 - Pooled variance 2-sample t-test**\n",
        "\n",
        "**Method 2 - Non-pooled variance 2-sample t-test**\n",
        "\n",
        "**Method 3 - Mann–Whitney U test**\n",
        "\n",
        "Explain the results and the conclusion you draw from the results. "
      ]
    },
    {
      "cell_type": "code",
      "metadata": {
        "id": "tpVLcCX7BY1c",
        "colab_type": "code",
        "colab": {
          "base_uri": "https://localhost:8080/",
          "height": 104
        },
        "outputId": "9be6c0e5-4823-466e-adde-bfee383cb483"
      },
      "source": [
        "# Setting data  \n",
        "American_data = mpg_data.query('origin==1')['mpg'] Japanese_data = mpg_data.query('origin==3')['mpg']\n",
        "\n",
        "# Printing pooled and non-pooled tests \n",
        "pooled_test = stats.ttest_ind(American_data, Japanese_data, equal_var = True)\n",
        "non_pooled_test = stats.ttest_ind(American_data, Japanese_data, equal_var = False)\n",
        "print(pooled_test)\n",
        "print()\n",
        "print(non_pooled_test)\n",
        "print()\n",
        "\n",
        "# Generating Mann-Whitney U test \n",
        "mann_whitney_test = stats.mannwhitneyu(American_data, Japanese_data) print(mann_whitney_test)"
      ],
      "execution_count": null,
      "outputs": [
        {
          "output_type": "stream",
          "text": [
            "Ttest_indResult(statistic=-12.684336451971392, pvalue=3.0598199771888896e-30)\n",
            "\n",
            "Ttest_indResult(statistic=-13.018778440054831, pvalue=1.0109535398281843e-25)\n",
            "\n",
            "MannwhitneyuResult(statistic=2499.5, pvalue=8.171225467272223e-24)\n"
          ],
          "name": "stdout"
        }
      ]
    },
    {
      "cell_type": "markdown",
      "metadata": {
        "id": "yRRTnPqJBY1f",
        "colab_type": "text"
      },
      "source": [
        "### Explain your results here:"
      ]
    },
    {
      "cell_type": "markdown",
      "metadata": {
        "id": "Rt6HQLgeBY1f",
        "colab_type": "text"
      },
      "source": [
        "In terms of the data , the pooled variance dataset considers all data, non-pooled considers each origin for each sub-sample is calculated independently, and Mann-Whitney compares 2 samples in the same population and is a non-parametric method. This first difference explains why the two t-tests have a p-value difference by a magnitude of 1.0x10^5. \n",
        "\n",
        "Another difference to note is t-tests hold the assumption that the data is drawn from a normal distribution. Based on the quintile-quintile plot of Q4, we know the data does not exemplify a normal distribution. Conversly, the Mann-Whitney test is preferrable as this assumption is not relied on and the method is non-parametric. We prefer Mann-Whitney as the data is not perfectly distributed. "
      ]
    },
    {
      "cell_type": "markdown",
      "metadata": {
        "id": "mb7OIKDaBY1g",
        "colab_type": "text"
      },
      "source": [
        "## Q8 Interactions of two variables - part 1 (10 pts)\n",
        "\n",
        "Now we look at how two variables affect MPG. We are interested in origin and displacement. We first bucket displacement with interval of 50 and put the bucket number in a new column called displacement_bucket. The buckets could be, for example:\n",
        "\n",
        "0. 0-50\n",
        "1. 50-100\n",
        "2. 100-150\n",
        "3. ...\n",
        "\n",
        "Then, make an [interaction plot](http://www.statsmodels.org/dev/generated/statsmodels.graphics.factorplots.interaction_plot.html) of displacement_bucket and origin vs MPG."
      ]
    },
    {
      "cell_type": "code",
      "metadata": {
        "id": "wvby3nGuBY1g",
        "colab_type": "code",
        "colab": {
          "base_uri": "https://localhost:8080/",
          "height": 470
        },
        "outputId": "56d61017-ca18-4f64-bb22-3ef566e16121"
      },
      "source": [
        "# Set data \n",
        "db = (mpg_data['displacement']/50).astype(int) \n",
        "mpg_data['displacement_bucket'] = db\n",
        "\n",
        "# Generate and display an interaction plot of data\n",
        "fig = statsmodels.graphics.factorplots.interaction_plot(mpg_data['displacement_bucket'], mpg_data['origin'], mpg_data['mpg'])\n",
        "plt.show()\n",
        "display(mpg_data['displacement_bucket'].head(n = 10))"
      ],
      "execution_count": null,
      "outputs": [
        {
          "output_type": "display_data",
          "data": {
            "image/png": "[encoded data removed]",
            "text/plain": [
              "<Figure size 432x288 with 1 Axes>"
            ]
          },
          "metadata": {
            "tags": [],
            "needs_background": "light"
          }
        },
        {
          "output_type": "display_data",
          "data": {
            "text/plain": [
              "0    6\n",
              "1    7\n",
              "2    6\n",
              "3    6\n",
              "4    6\n",
              "5    8\n",
              "6    9\n",
              "7    8\n",
              "8    9\n",
              "9    7\n",
              "Name: displacement_bucket, dtype: int64"
            ]
          },
          "metadata": {
            "tags": []
          }
        }
      ]
    },
    {
      "cell_type": "markdown",
      "metadata": {
        "id": "ywNQvMzIBY1i",
        "colab_type": "text"
      },
      "source": [
        "## Q8 Interactions of two variables - part 2 (15 pts)\n",
        "\n",
        "Now we use statistical test to quantitatively inspect the interactions. Use two-way ANOVA to determine if there are any interactions between origin and displacement_bucket. Print out the two-way ANOVA table and **explain the results**. What conclusion can you draw from your analysis? Does your result invalidate the conclusion drawn from previous one-way ANOVA and t-test? Why?\n",
        "\n",
        "Hint 1: you might encounter errors when running two-way ANOVA. You might need to select a subset of the data to do the analysis. Explain your method. \n",
        "\n",
        "Hint 2: Approach the last question from how two-way ANOVA is interpreted and from the perspective of Design of Experiments."
      ]
    },
    {
      "cell_type": "code",
      "metadata": {
        "id": "_qUQk-LZBY1j",
        "colab_type": "code",
        "colab": {
          "base_uri": "https://localhost:8080/",
          "height": 262
        },
        "outputId": "906f9d47-2c54-415d-babb-04da7c94213b"
      },
      "source": [
        "# Import functions\n",
        "from statsmodels.formula.api import ols\n",
        "\n",
        "# Set ANOVA model \n",
        "model = ols('mpg ~ C(origin)*C(displacement_bucket)', data=mpg_data).fit()\n",
        "res = statsmodels.api.stats.anova_lm(model, typ=2)\n",
        "print(res)\n"
      ],
      "execution_count": null,
      "outputs": [
        {
          "output_type": "stream",
          "text": [
            "                                       sum_sq     df       F    PR(>F)\n",
            "C(origin)                                 NaN    2.0     NaN       NaN\n",
            "C(displacement_bucket)                    NaN    8.0     NaN       NaN\n",
            "C(origin):C(displacement_bucket)   597.174218   16.0  1.9351  0.103898\n",
            "Residual                          7387.142840  383.0     NaN       NaN\n"
          ],
          "name": "stdout"
        },
        {
          "output_type": "stream",
          "text": [
            "/usr/local/lib/python3.6/dist-packages/statsmodels/base/model.py:1752: ValueWarning: covariance of constraints does not have full rank. The number of constraints is 2, but rank is 0\n",
            "  'rank is %d' % (J, J_), ValueWarning)\n",
            "/usr/local/lib/python3.6/dist-packages/statsmodels/base/model.py:1768: RuntimeWarning: invalid value encountered in true_divide\n",
            "  F /= J\n",
            "/usr/local/lib/python3.6/dist-packages/statsmodels/base/model.py:1752: ValueWarning: covariance of constraints does not have full rank. The number of constraints is 8, but rank is 0\n",
            "  'rank is %d' % (J, J_), ValueWarning)\n",
            "/usr/local/lib/python3.6/dist-packages/statsmodels/base/model.py:1752: ValueWarning: covariance of constraints does not have full rank. The number of constraints is 16, but rank is 4\n",
            "  'rank is %d' % (J, J_), ValueWarning)\n"
          ],
          "name": "stderr"
        }
      ]
    },
    {
      "cell_type": "markdown",
      "metadata": {
        "id": "zyYRPO57BY1l",
        "colab_type": "text"
      },
      "source": [
        "### Explain your results here:\n"
      ]
    },
    {
      "cell_type": "markdown",
      "metadata": {
        "id": "7hlnFywKsNhW",
        "colab_type": "text"
      },
      "source": [
        "Based on this data there are a few conclusions we can draw. We can draw that the MPG is dependant, the origin and displacement are independent, and the origin and displacement are both non-significant in the co-interaction.  "
      ]
    },
    {
      "cell_type": "markdown",
      "metadata": {
        "id": "uw6R54iTBY1n",
        "colab_type": "text"
      },
      "source": [
        "# Problem 2 Is Hanover getting hotter or colder over the years? (20 pts)\n",
        "\n",
        "Now we use the Hanover climate data from Assignment 1 to answer if Hanover is getting hotter or colder over the past years (global warming?). This is an open question. It is totally up to you choosing statistical tests. You must:\n",
        "\n",
        "#### 1. Visualize the data. (5 pts)\n",
        "#### 2. Choose your test and run it. (10 pts)\n",
        "#### 3. Explain results. (5 pts)"
      ]
    },
    {
      "cell_type": "code",
      "metadata": {
        "id": "9ZxiBkzdFYLN",
        "colab_type": "code",
        "colab": {}
      },
      "source": [
        "drive.CreateFile({'id': '1JX7HLX8B8qgEJ4q19qEg6VuMeQe4OS8H'}).GetContentFile('NOAA_Hanover.csv')"
      ],
      "execution_count": null,
      "outputs": []
    },
    {
      "cell_type": "code",
      "metadata": {
        "id": "knCsSIZkF5fy",
        "colab_type": "code",
        "colab": {
          "base_uri": "https://localhost:8080/",
          "height": 72
        },
        "outputId": "2734a30e-da6d-4e65-a0cb-64f2ba05b9ff"
      },
      "source": [
        "hanover_data = pd.read_csv('NOAA_Hanover.csv')"
      ],
      "execution_count": null,
      "outputs": [
        {
          "output_type": "stream",
          "text": [
            "/usr/local/lib/python3.6/dist-packages/IPython/core/interactiveshell.py:2718: DtypeWarning: Columns (27,29,31,33,37,39,41) have mixed types.Specify dtype option on import or set low_memory=False.\n",
            "  interactivity=interactivity, compiler=compiler, result=result)\n"
          ],
          "name": "stderr"
        }
      ]
    },
    {
      "cell_type": "code",
      "metadata": {
        "id": "ulxSpRWZBY1o",
        "colab_type": "code",
        "colab": {
          "base_uri": "https://localhost:8080/",
          "height": 69
        },
        "outputId": "97b2994d-edfe-4c60-f162-8758fb700098"
      },
      "source": [
        "#TMAX - TMIN for temp for each year\n",
        "tmaxminDif = hanover_data[\"TMAX\"] - hanover_data[\"TMIN\"]\n",
        "\n",
        "#apply test \n",
        "from statsmodels.formula.api import ols\n",
        "lm = ols('mpg ~ C(origin)',data=mpg_data).fit()\n",
        "anova_table = statsmodels.api.stats.anova_lm(lm)\n",
        "print(anova_table)\n",
        "\n",
        "\n",
        "\n"
      ],
      "execution_count": null,
      "outputs": [
        {
          "output_type": "stream",
          "text": [
            "              df        sum_sq      mean_sq          F        PR(>F)\n",
            "C(origin)    2.0   8072.820662  4036.410331  98.541795  1.915486e-35\n",
            "Residual   395.0  16179.754815    40.961405        NaN           NaN\n"
          ],
          "name": "stdout"
        }
      ]
    },
    {
      "cell_type": "markdown",
      "metadata": {
        "id": "iU6_eBG1sFXr",
        "colab_type": "text"
      },
      "source": [
        "Based on the data and slope, we know that the temperature is getting colder over the years. "
      ]
    }
  ]
}
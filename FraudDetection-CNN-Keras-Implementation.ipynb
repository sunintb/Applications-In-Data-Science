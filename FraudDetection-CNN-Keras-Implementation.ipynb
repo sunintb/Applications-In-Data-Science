{
  "nbformat": 4,
  "nbformat_minor": 0,
  "metadata": {
    "anaconda-cloud": {},
    "interactive_sols": {
      "cbx_id": 1
    },
    "kernelspec": {
      "display_name": "Python 3",
      "language": "python",
      "name": "python3"
    },
    "language_info": {
      "codemirror_mode": {
        "name": "ipython",
        "version": 3
      },
      "file_extension": ".py",
      "mimetype": "text/x-python",
      "name": "python",
      "nbconvert_exporter": "python",
      "pygments_lexer": "ipython3",
      "version": "3.7.6"
    },
    "latex_envs": {
      "LaTeX_envs_menu_present": true,
      "autocomplete": true,
      "bibliofile": "biblio.bib",
      "cite_by": "apalike",
      "current_citInitial": 1,
      "eqLabelWithNumbers": true,
      "eqNumInitial": 1,
      "hotkeys": {
        "equation": "Ctrl-E",
        "itemize": "Ctrl-I"
      },
      "labels_anchors": false,
      "latex_user_defs": false,
      "report_style_numbering": false,
      "user_envs_cfg": false
    },
    "colab": {
      "name": "CS69 assignment_6.ipynb",
      "provenance": [],
      "collapsed_sections": []
    }
  },
  "cells": [
    {
      "cell_type": "markdown",
      "metadata": {
        "id": "Ij0jQZssP8tn",
        "colab_type": "text"
      },
      "source": [
        "## Your Name: Sunint Bindra\n",
        "\n",
        "## Your Collaborator's Name: Joshua Ackerman"
      ]
    },
    {
      "cell_type": "markdown",
      "metadata": {
        "id": "YwDcKlvdR9d5",
        "colab_type": "text"
      },
      "source": [
        "# Assignment 6. Deep Learning and TensorFlow\n",
        "\n",
        "In this homework, we will train a neural network to predict if a credit card transaction is fraudulent or genuine. We will use the dataset from Assignment 4 and TensorFlow or Keras.\n",
        "\n",
        "### Data\n",
        "\n",
        "For this homework, you will use the dataset from Assignment 4:\n",
        "- Credit Card Fraud Detection: https://www.kaggle.com/mlg-ulb/creditcardfraud/data\n",
        "\n",
        "### References\n",
        "\n",
        "- Chapter 18 in Data Science from Scatch.\n",
        "- [TensorFlow Tutorials](https://www.tensorflow.org/tutorials/)\n",
        "- [Keras: The Python Deep Learning library](https://keras.io)\n"
      ]
    },
    {
      "cell_type": "markdown",
      "metadata": {
        "id": "OlfBE7WOR9d6",
        "colab_type": "text"
      },
      "source": [
        "## Problem 1 (TensorFlow or Keras)\n",
        "\n",
        "This is not a graded problem. You can choose using TensorFlow or Keras in this assignment. Keras is a high-level python neural netoworks API that runs on top of TensorFlow, CNTK, or Theano. You can choose to use either TensorFlow or Keras for this assignment. Please specify which library you use.\n",
        "\n",
        "<!-- If you are going to use TensorFlow, follow the instructions in [here](https://www.tensorflow.org/install/) to install TensorFlow on your computer. Otherwise follow the instructions in [here](https://keras.io/#installation) to install Keras. -->\n"
      ]
    },
    {
      "cell_type": "code",
      "metadata": {
        "id": "rIZxXNvITM4b",
        "colab_type": "code",
        "colab": {}
      },
      "source": [
        "import keras"
      ],
      "execution_count": null,
      "outputs": []
    },
    {
      "cell_type": "markdown",
      "metadata": {
        "id": "Sgo7h3pKR9d7",
        "colab_type": "text"
      },
      "source": [
        "### Your choice is:\n",
        "\n"
      ]
    },
    {
      "cell_type": "markdown",
      "metadata": {
        "id": "fhYdYfS6R9d8",
        "colab_type": "text"
      },
      "source": [
        "Keras"
      ]
    },
    {
      "cell_type": "markdown",
      "metadata": {
        "id": "nDFmlLkpR9d8",
        "colab_type": "text"
      },
      "source": [
        "## Problem 2 Train neural network\n",
        "\n",
        "In this problem, you will design and implement your neural network for fruad detection. The input features are V1 to V28. The minimum requirement for the network is that it should have at least one hidden layer and one output layer. All layers are fully connected. Since it is a binary classification problem, the output layer would have only one neuron with sgmoid activation. \n",
        "\n",
        "#### [\"Since it is a binary classification, using sigmoid is same as softmax. For multi-class classification use sofmax with cross-entropy.\"](https://medium.com/aidevnepal/for-sigmoid-funcion-f7a5da78fec2) \n",
        "\n",
        "You will make the following decisions:\n",
        "1. the number of hidden layers (1 minimum).\n",
        "2. the number of neurons for each hidden layer.\n",
        "3. the activation function (e.g., sigmoid, ReLU, tanh) and batch size.\n",
        "4. regularizations (e.g., batch normalization, dropout)\n",
        "5. the loss function, metrics, and optimizer\n",
        "6. training strategy. (e.g., pretraining, distillation)\n",
        "\n",
        "\n",
        "## Using convolutional networks or recurrent networks (e.g., LSTM, GRU) will have bonus points. However, they should be added in a correct manner."
      ]
    },
    {
      "cell_type": "markdown",
      "metadata": {
        "id": "PYl86Sw-R9d9",
        "colab_type": "text"
      },
      "source": [
        "### Q1 Describe your neural network (10 pts)\n",
        "\n",
        "Please specify the following:\n",
        "\n",
        "0. what is the input dimensions? I.e., How many inputs does your network have?\n",
        "1. the number of hidden layers\n",
        "2. the number of neurons for each hidden layer.\n",
        "3. the activation function (e.g., sigmoid, ReLU, tanh) and batch size.\n",
        "4. regularizations (e.g., batch normalization on different hidden layers, dropout with different rates).\n",
        "5. the loss function, metrics and optimizer.\n",
        "6. what is your training strategy? (e.g., pretraining, distillation)\n",
        "\n",
        "### You could try pretraining and fine-tuning (e.g., autoencoder)."
      ]
    },
    {
      "cell_type": "markdown",
      "metadata": {
        "id": "ShUPssTiR9d-",
        "colab_type": "text"
      },
      "source": [
        "#### Your answer:\n"
      ]
    },
    {
      "cell_type": "markdown",
      "metadata": {
        "id": "zkkz1J3DR9d-",
        "colab_type": "text"
      },
      "source": [
        "0. Inputs V1 to V28, plus to others (total of 30) input layers\n",
        "1. 7 hidden layers, 1-vector layer, CNN layer with 5 filters, max-pooling layer, dense layer with 7 neurons, final output layer \n",
        "2. Refer to 1. \n",
        "3. 32 batch size, activation fx of final layer is sigmod, activation fx of hidden layers is ReLU\n",
        "4. No specific regularization parameteres set, possibly background/fitting is doing that   \n",
        "5. Adam optimizer is used with loss for binary-cross entropy, metrics is set to accuracy  \n",
        "6. Training strategy, no pretraining"
      ]
    },
    {
      "cell_type": "code",
      "metadata": {
        "id": "svGKZ_UE-7Cx",
        "colab_type": "code",
        "colab": {}
      },
      "source": [
        "import pandas as pd"
      ],
      "execution_count": null,
      "outputs": []
    },
    {
      "cell_type": "code",
      "metadata": {
        "id": "ksL_Eecw-8_u",
        "colab_type": "code",
        "colab": {}
      },
      "source": [
        "# Code to read csv file into Colaboratory:\n",
        "!pip install -U -q PyDrive\n",
        "from pydrive.auth import GoogleAuth\n",
        "from pydrive.drive import GoogleDrive\n",
        "from google.colab import auth\n",
        "from oauth2client.client import GoogleCredentials\n",
        "# Authenticate and create the PyDrive client.\n",
        "auth.authenticate_user()\n",
        "gauth = GoogleAuth()\n",
        "gauth.credentials = GoogleCredentials.get_application_default()\n",
        "drive = GoogleDrive(gauth)"
      ],
      "execution_count": null,
      "outputs": []
    },
    {
      "cell_type": "code",
      "metadata": {
        "id": "F9fx-tO9--mO",
        "colab_type": "code",
        "colab": {}
      },
      "source": [
        "drive.CreateFile({'id': '1--2KTYqptGjsbAIf3-sKFUHWAnvjKXJ6'}).GetContentFile('creditcard.csv')\n",
        "fraud_data = pd.read_csv('creditcard.csv')"
      ],
      "execution_count": null,
      "outputs": []
    },
    {
      "cell_type": "code",
      "metadata": {
        "id": "Hkt3kBX9_Gyf",
        "colab_type": "code",
        "colab": {
          "base_uri": "https://localhost:8080/",
          "height": 222
        },
        "outputId": "0850df59-f9bc-4780-87aa-81a7a52c6324"
      },
      "source": [
        "fraud_data.sample(frac=1).head(n=5)"
      ],
      "execution_count": null,
      "outputs": [
        {
          "output_type": "execute_result",
          "data": {
            "text/html": [
              "<div>\n",
              "<style scoped>\n",
              "    .dataframe tbody tr th:only-of-type {\n",
              "        vertical-align: middle;\n",
              "    }\n",
              "\n",
              "    .dataframe tbody tr th {\n",
              "        vertical-align: top;\n",
              "    }\n",
              "\n",
              "    .dataframe thead th {\n",
              "        text-align: right;\n",
              "    }\n",
              "</style>\n",
              "<table border=\"1\" class=\"dataframe\">\n",
              "  <thead>\n",
              "    <tr style=\"text-align: right;\">\n",
              "      <th></th>\n",
              "      <th>Time</th>\n",
              "      <th>V1</th>\n",
              "      <th>V2</th>\n",
              "      <th>V3</th>\n",
              "      <th>V4</th>\n",
              "      <th>V5</th>\n",
              "      <th>V6</th>\n",
              "      <th>V7</th>\n",
              "      <th>V8</th>\n",
              "      <th>V9</th>\n",
              "      <th>V10</th>\n",
              "      <th>V11</th>\n",
              "      <th>V12</th>\n",
              "      <th>V13</th>\n",
              "      <th>V14</th>\n",
              "      <th>V15</th>\n",
              "      <th>V16</th>\n",
              "      <th>V17</th>\n",
              "      <th>V18</th>\n",
              "      <th>V19</th>\n",
              "      <th>V20</th>\n",
              "      <th>V21</th>\n",
              "      <th>V22</th>\n",
              "      <th>V23</th>\n",
              "      <th>V24</th>\n",
              "      <th>V25</th>\n",
              "      <th>V26</th>\n",
              "      <th>V27</th>\n",
              "      <th>V28</th>\n",
              "      <th>Amount</th>\n",
              "      <th>Class</th>\n",
              "    </tr>\n",
              "  </thead>\n",
              "  <tbody>\n",
              "    <tr>\n",
              "      <th>123664</th>\n",
              "      <td>77015.0</td>\n",
              "      <td>-1.839882</td>\n",
              "      <td>-0.199824</td>\n",
              "      <td>1.029619</td>\n",
              "      <td>0.389045</td>\n",
              "      <td>1.277865</td>\n",
              "      <td>1.665120</td>\n",
              "      <td>-0.331760</td>\n",
              "      <td>0.489620</td>\n",
              "      <td>0.191413</td>\n",
              "      <td>0.259450</td>\n",
              "      <td>1.482468</td>\n",
              "      <td>0.599859</td>\n",
              "      <td>-1.084731</td>\n",
              "      <td>0.175231</td>\n",
              "      <td>0.571550</td>\n",
              "      <td>-1.564305</td>\n",
              "      <td>1.110830</td>\n",
              "      <td>-1.766523</td>\n",
              "      <td>-0.004665</td>\n",
              "      <td>-0.757641</td>\n",
              "      <td>-0.074961</td>\n",
              "      <td>0.289104</td>\n",
              "      <td>-0.310511</td>\n",
              "      <td>-1.277282</td>\n",
              "      <td>-0.817759</td>\n",
              "      <td>0.367868</td>\n",
              "      <td>-0.337743</td>\n",
              "      <td>0.285553</td>\n",
              "      <td>57.93</td>\n",
              "      <td>0</td>\n",
              "    </tr>\n",
              "    <tr>\n",
              "      <th>146100</th>\n",
              "      <td>87443.0</td>\n",
              "      <td>0.989569</td>\n",
              "      <td>-1.966878</td>\n",
              "      <td>-2.224828</td>\n",
              "      <td>0.547372</td>\n",
              "      <td>-0.177509</td>\n",
              "      <td>-0.175617</td>\n",
              "      <td>0.773222</td>\n",
              "      <td>-0.298852</td>\n",
              "      <td>0.512634</td>\n",
              "      <td>-0.109298</td>\n",
              "      <td>0.030086</td>\n",
              "      <td>0.675546</td>\n",
              "      <td>0.123752</td>\n",
              "      <td>0.643217</td>\n",
              "      <td>-0.039380</td>\n",
              "      <td>0.255197</td>\n",
              "      <td>-1.004507</td>\n",
              "      <td>0.932515</td>\n",
              "      <td>0.254858</td>\n",
              "      <td>0.943675</td>\n",
              "      <td>0.642075</td>\n",
              "      <td>0.748515</td>\n",
              "      <td>-0.680687</td>\n",
              "      <td>-0.886097</td>\n",
              "      <td>0.215825</td>\n",
              "      <td>-0.041106</td>\n",
              "      <td>-0.125057</td>\n",
              "      <td>0.020004</td>\n",
              "      <td>570.00</td>\n",
              "      <td>0</td>\n",
              "    </tr>\n",
              "    <tr>\n",
              "      <th>269939</th>\n",
              "      <td>163844.0</td>\n",
              "      <td>1.265892</td>\n",
              "      <td>-1.291747</td>\n",
              "      <td>-1.471104</td>\n",
              "      <td>0.723850</td>\n",
              "      <td>-0.399846</td>\n",
              "      <td>-0.240411</td>\n",
              "      <td>0.127333</td>\n",
              "      <td>-0.131177</td>\n",
              "      <td>0.853295</td>\n",
              "      <td>-0.670114</td>\n",
              "      <td>-0.633034</td>\n",
              "      <td>0.308695</td>\n",
              "      <td>0.664721</td>\n",
              "      <td>-1.276637</td>\n",
              "      <td>0.688764</td>\n",
              "      <td>0.930690</td>\n",
              "      <td>0.254111</td>\n",
              "      <td>0.198333</td>\n",
              "      <td>-0.249329</td>\n",
              "      <td>0.705814</td>\n",
              "      <td>-0.106443</td>\n",
              "      <td>-1.095211</td>\n",
              "      <td>0.065266</td>\n",
              "      <td>0.385148</td>\n",
              "      <td>-0.690047</td>\n",
              "      <td>0.058437</td>\n",
              "      <td>-0.092628</td>\n",
              "      <td>0.057505</td>\n",
              "      <td>399.90</td>\n",
              "      <td>0</td>\n",
              "    </tr>\n",
              "    <tr>\n",
              "      <th>264694</th>\n",
              "      <td>161543.0</td>\n",
              "      <td>-1.535476</td>\n",
              "      <td>0.049610</td>\n",
              "      <td>0.809848</td>\n",
              "      <td>-3.556288</td>\n",
              "      <td>0.323349</td>\n",
              "      <td>0.281887</td>\n",
              "      <td>-0.163201</td>\n",
              "      <td>0.660506</td>\n",
              "      <td>-0.718052</td>\n",
              "      <td>-0.787663</td>\n",
              "      <td>-0.606967</td>\n",
              "      <td>0.736636</td>\n",
              "      <td>0.789797</td>\n",
              "      <td>-0.208279</td>\n",
              "      <td>-1.617831</td>\n",
              "      <td>-0.700132</td>\n",
              "      <td>-0.846353</td>\n",
              "      <td>1.375343</td>\n",
              "      <td>-0.517168</td>\n",
              "      <td>-0.533343</td>\n",
              "      <td>-0.835382</td>\n",
              "      <td>-1.916531</td>\n",
              "      <td>0.135811</td>\n",
              "      <td>-0.401227</td>\n",
              "      <td>0.532137</td>\n",
              "      <td>0.173895</td>\n",
              "      <td>-0.004687</td>\n",
              "      <td>-0.009374</td>\n",
              "      <td>1.93</td>\n",
              "      <td>0</td>\n",
              "    </tr>\n",
              "    <tr>\n",
              "      <th>129001</th>\n",
              "      <td>78918.0</td>\n",
              "      <td>-1.004427</td>\n",
              "      <td>1.087976</td>\n",
              "      <td>0.819788</td>\n",
              "      <td>-0.439847</td>\n",
              "      <td>0.852683</td>\n",
              "      <td>1.477020</td>\n",
              "      <td>0.114806</td>\n",
              "      <td>0.805467</td>\n",
              "      <td>-0.030446</td>\n",
              "      <td>0.133540</td>\n",
              "      <td>1.932463</td>\n",
              "      <td>0.069554</td>\n",
              "      <td>-1.539000</td>\n",
              "      <td>0.036894</td>\n",
              "      <td>1.508129</td>\n",
              "      <td>-0.561102</td>\n",
              "      <td>0.914032</td>\n",
              "      <td>-1.323897</td>\n",
              "      <td>-1.277119</td>\n",
              "      <td>0.144537</td>\n",
              "      <td>-0.194828</td>\n",
              "      <td>-0.313484</td>\n",
              "      <td>0.087540</td>\n",
              "      <td>-1.445211</td>\n",
              "      <td>-0.414046</td>\n",
              "      <td>0.218070</td>\n",
              "      <td>0.519651</td>\n",
              "      <td>0.184620</td>\n",
              "      <td>0.99</td>\n",
              "      <td>0</td>\n",
              "    </tr>\n",
              "  </tbody>\n",
              "</table>\n",
              "</div>"
            ],
            "text/plain": [
              "            Time        V1        V2  ...       V28  Amount  Class\n",
              "123664   77015.0 -1.839882 -0.199824  ...  0.285553   57.93      0\n",
              "146100   87443.0  0.989569 -1.966878  ...  0.020004  570.00      0\n",
              "269939  163844.0  1.265892 -1.291747  ...  0.057505  399.90      0\n",
              "264694  161543.0 -1.535476  0.049610  ... -0.009374    1.93      0\n",
              "129001   78918.0 -1.004427  1.087976  ...  0.184620    0.99      0\n",
              "\n",
              "[5 rows x 31 columns]"
            ]
          },
          "metadata": {
            "tags": []
          },
          "execution_count": 29
        }
      ]
    },
    {
      "cell_type": "markdown",
      "metadata": {
        "id": "a49wOHqVR9d_",
        "colab_type": "text"
      },
      "source": [
        "### Q2 Train and Evaluate the First Model (50 pts)\n",
        "\n",
        "Write code to define your neural network model. Split the data into training and test sets. Use stratified K-fold cross-validation or a separate validation set to tune hyperparameters (e.g., batch size, acitivation function, dropout rate, loss function, optimizer). Evaluate the performance of the model on the test set. Display learning curves (i.e., loss result after training each batch) for both training and validation sets.\n",
        "\n",
        "### You must write a complete training pipeline with all of the 6 steps listed above included."
      ]
    },
    {
      "cell_type": "code",
      "metadata": {
        "id": "-5ygKapgTlrA",
        "colab_type": "code",
        "colab": {
          "base_uri": "https://localhost:8080/",
          "height": 1000
        },
        "outputId": "9d40baf7-b75a-46e5-8615-3e64c47dad94"
      },
      "source": [
        "# imports \n",
        "import numpy as np\n",
        "from keras.layers import Conv1D, GlobalMaxPooling1D\n",
        "from keras.models import Sequential\n",
        "from keras.layers import Dense, Dropout, Activation, Flatten\n",
        "from sklearn.model_selection import train_test_split\n",
        "from sklearn.model_selection import StratifiedKFold\n",
        "import matplotlib.pyplot as plt\n",
        "\n",
        "# Make X, y by dropping or selecting column\n",
        "X = fraud_data.drop('Class', axis = 1, inplace = False).to_numpy()\n",
        "y = fraud_data[\"Class\"].to_numpy()\n",
        "\n",
        "# Split the data into training and test sets\n",
        "X_train, X_test, y_train, y_test = train_test_split(X, y)\n",
        "\n",
        "# Make Network\n",
        "filters = 5\n",
        "kernel_size = 3\n",
        "epochs = 10\n",
        "batch_size = 32\n",
        "validation_split = 0.2\n",
        "\n",
        "input_size = (len(X_train[0]), 1)\n",
        "# Describe model type \n",
        "model = Sequential()\n",
        "\n",
        "# Adding 1D convolutional layer, dropout rate, max pooling fx, and dense layers\n",
        "model.add(Conv1D(filters, kernel_size, padding = \"valid\", activation = \"relu\",\n",
        "          input_shape = input_size))\n",
        "model.add(Dropout(0.2))\n",
        "model.add(GlobalMaxPooling1D())\n",
        "model.add(Dense(7, activation = \"relu\"))\n",
        "model.add(Dense(1, activation = \"sigmoid\"))\n",
        "\n",
        "# Configuring training model \n",
        "model.compile(loss = \"binary_crossentropy\", optimizer = \"Adam\", \n",
        "              metrics = [\"accuracy\"])\n",
        "\n",
        "# Display model shape and parameters \n",
        "display(model.summary())\n",
        "\n",
        "# Training the model with validation set\n",
        "X_train = np.expand_dims(X_train, axis = 2)\n",
        "X_test = np.expand_dims(X_test, axis = 2)\n",
        "\n",
        "history = model.fit(X_train, y_train, epochs = epochs, \n",
        "          batch_size = batch_size, \n",
        "          validation_split = validation_split)\n",
        "\n",
        "display(model.evaluate(X_test, y_test))\n",
        "\n",
        "# Display plots of loss and accuracy\n",
        "plt.plot(history.history[\"loss\"])\n",
        "plt.plot(history.history[\"val_loss\"])\n",
        "plt.show()\n",
        "\n",
        "plt.plot(history.history[\"accuracy\"])\n",
        "plt.plot(history.history[\"val_accuracy\"])\n",
        "plt.show()\n"
      ],
      "execution_count": null,
      "outputs": [
        {
          "output_type": "stream",
          "text": [
            "Model: \"sequential_23\"\n",
            "_________________________________________________________________\n",
            "Layer (type)                 Output Shape              Param #   \n",
            "=================================================================\n",
            "conv1d_23 (Conv1D)           (None, 28, 5)             20        \n",
            "_________________________________________________________________\n",
            "dropout_19 (Dropout)         (None, 28, 5)             0         \n",
            "_________________________________________________________________\n",
            "global_max_pooling1d_23 (Glo (None, 5)                 0         \n",
            "_________________________________________________________________\n",
            "dense_45 (Dense)             (None, 7)                 42        \n",
            "_________________________________________________________________\n",
            "dense_46 (Dense)             (None, 1)                 8         \n",
            "=================================================================\n",
            "Total params: 70\n",
            "Trainable params: 70\n",
            "Non-trainable params: 0\n",
            "_________________________________________________________________\n"
          ],
          "name": "stdout"
        },
        {
          "output_type": "display_data",
          "data": {
            "text/plain": [
              "None"
            ]
          },
          "metadata": {
            "tags": []
          }
        },
        {
          "output_type": "stream",
          "text": [
            "Train on 170884 samples, validate on 42721 samples\n",
            "Epoch 1/10\n",
            "170884/170884 [==============================] - 10s 58us/step - loss: 13.5812 - accuracy: 0.9967 - val_loss: 0.4500 - val_accuracy: 0.9982\n",
            "Epoch 2/10\n",
            "170884/170884 [==============================] - 10s 57us/step - loss: 0.4757 - accuracy: 0.9979 - val_loss: 0.0206 - val_accuracy: 0.9983\n",
            "Epoch 3/10\n",
            "170884/170884 [==============================] - 10s 57us/step - loss: 0.3539 - accuracy: 0.9980 - val_loss: 0.0132 - val_accuracy: 0.9983\n",
            "Epoch 4/10\n",
            "170884/170884 [==============================] - 10s 57us/step - loss: 0.1599 - accuracy: 0.9980 - val_loss: 0.0128 - val_accuracy: 0.9983\n",
            "Epoch 5/10\n",
            "170884/170884 [==============================] - 10s 57us/step - loss: 0.0942 - accuracy: 0.9980 - val_loss: 0.0128 - val_accuracy: 0.9983\n",
            "Epoch 6/10\n",
            "170884/170884 [==============================] - 10s 57us/step - loss: 0.0522 - accuracy: 0.9981 - val_loss: 0.0128 - val_accuracy: 0.9983\n",
            "Epoch 7/10\n",
            "170884/170884 [==============================] - 10s 56us/step - loss: 0.0150 - accuracy: 0.9982 - val_loss: 0.0127 - val_accuracy: 0.9983\n",
            "Epoch 8/10\n",
            "170884/170884 [==============================] - 10s 57us/step - loss: 0.0123 - accuracy: 0.9983 - val_loss: 0.0128 - val_accuracy: 0.9983\n",
            "Epoch 9/10\n",
            "170884/170884 [==============================] - 10s 57us/step - loss: 0.0122 - accuracy: 0.9983 - val_loss: 0.0128 - val_accuracy: 0.9983\n",
            "Epoch 10/10\n",
            "170884/170884 [==============================] - 10s 57us/step - loss: 0.0119 - accuracy: 0.9983 - val_loss: 0.0128 - val_accuracy: 0.9983\n",
            "71202/71202 [==============================] - 2s 23us/step\n"
          ],
          "name": "stdout"
        },
        {
          "output_type": "display_data",
          "data": {
            "text/plain": [
              "[0.012732264345454452, 0.9982725381851196]"
            ]
          },
          "metadata": {
            "tags": []
          }
        },
        {
          "output_type": "display_data",
          "data": {
            "image/png": "[encoded data removed]",
            "text/plain": [
              "<Figure size 432x288 with 1 Axes>"
            ]
          },
          "metadata": {
            "tags": [],
            "needs_background": "light"
          }
        },
        {
          "output_type": "display_data",
          "data": {
            "image/png": "[encoded data removed]",
            "text/plain": [
              "<Figure size 432x288 with 1 Axes>"
            ]
          },
          "metadata": {
            "tags": [],
            "needs_background": "light"
          }
        }
      ]
    },
    {
      "cell_type": "markdown",
      "metadata": {
        "id": "3r3k2PNbR9eD",
        "colab_type": "text"
      },
      "source": [
        "### Q3 Evaluate a Simpler Network (15 pts)\n",
        "\n",
        "Now reduce your model's complexity and evalaute the reduced model. Display learning curves too. If your model has only 1 hidden layer, you can reduce the number of neurons. If your model has more than 1 hidden layer, you can also try removing one hidden layer. Or, increasing the kernel size or stride if you have convolutional layers.\n",
        "\n",
        "Reducing the model complexity helps reducing over-fitting. "
      ]
    },
    {
      "cell_type": "code",
      "metadata": {
        "id": "lyLwWjmeR9eE",
        "colab_type": "code",
        "colab": {
          "base_uri": "https://localhost:8080/",
          "height": 1000
        },
        "outputId": "a15b134a-8abb-489d-e14b-a0213c58c6cf"
      },
      "source": [
        "filters_simple = 3\n",
        "kernel_size_simple = 3\n",
        "\n",
        "input_size = (len(X_train[0]), 1)\n",
        "# Describing model type\n",
        "model_simple = Sequential()\n",
        "\n",
        "# Adding 1D convolutional layer, dropout rate, max pooling fx, and dense layers\n",
        "model_simple.add(Conv1D(filters_simple, kernel_size_simple, padding = \"valid\", \n",
        "                        activation = \"relu\", input_shape = input_size))\n",
        "model_simple.add(Dropout(0.6))\n",
        "model_simple.add(GlobalMaxPooling1D())\n",
        "model_simple.add(Dense(7, activation = \"relu\")) \n",
        "model_simple.add(Dense(1, activation = \"sigmoid\"))\n",
        "\n",
        "# Configuring training model \n",
        "model_simple.compile(loss = \"binary_crossentropy\", optimizer = \"Adagrad\", \n",
        "              metrics = [\"accuracy\"])\n",
        "\n",
        "# Display model shape and parameters \n",
        "display(model_simple.summary())\n",
        "\n",
        "# Training the model with validation set\n",
        "history = model_simple.fit(X_train, y_train, epochs = epochs, \n",
        "          batch_size = batch_size, \n",
        "          validation_split = validation_split)\n",
        "\n",
        "display(model_simple.evaluate(X_test, y_test))\n",
        "\n",
        "# Display plots of loss and accuracy\n",
        "plt.plot(history.history[\"loss\"])\n",
        "plt.plot(history.history[\"val_loss\"])\n",
        "plt.show()\n",
        "\n",
        "plt.plot(history.history[\"accuracy\"])\n",
        "plt.plot(history.history[\"val_accuracy\"])\n",
        "plt.show()"
      ],
      "execution_count": null,
      "outputs": [
        {
          "output_type": "stream",
          "text": [
            "Model: \"sequential_21\"\n",
            "_________________________________________________________________\n",
            "Layer (type)                 Output Shape              Param #   \n",
            "=================================================================\n",
            "conv1d_21 (Conv1D)           (None, 28, 3)             12        \n",
            "_________________________________________________________________\n",
            "dropout_18 (Dropout)         (None, 28, 3)             0         \n",
            "_________________________________________________________________\n",
            "global_max_pooling1d_21 (Glo (None, 3)                 0         \n",
            "_________________________________________________________________\n",
            "dense_41 (Dense)             (None, 7)                 28        \n",
            "_________________________________________________________________\n",
            "dense_42 (Dense)             (None, 1)                 8         \n",
            "=================================================================\n",
            "Total params: 48\n",
            "Trainable params: 48\n",
            "Non-trainable params: 0\n",
            "_________________________________________________________________\n"
          ],
          "name": "stdout"
        },
        {
          "output_type": "display_data",
          "data": {
            "text/plain": [
              "None"
            ]
          },
          "metadata": {
            "tags": []
          }
        },
        {
          "output_type": "stream",
          "text": [
            "Train on 170884 samples, validate on 42721 samples\n",
            "Epoch 1/10\n",
            "170884/170884 [==============================] - 9s 53us/step - loss: 2.9430 - accuracy: 0.9896 - val_loss: 0.2001 - val_accuracy: 0.9983\n",
            "Epoch 2/10\n",
            "170884/170884 [==============================] - 9s 53us/step - loss: 0.2328 - accuracy: 0.9976 - val_loss: 0.3470 - val_accuracy: 0.9983\n",
            "Epoch 3/10\n",
            "170884/170884 [==============================] - 9s 53us/step - loss: 0.2189 - accuracy: 0.9978 - val_loss: 0.1474 - val_accuracy: 0.9983\n",
            "Epoch 4/10\n",
            "170884/170884 [==============================] - 9s 53us/step - loss: 0.1491 - accuracy: 0.9976 - val_loss: 0.0585 - val_accuracy: 0.9983\n",
            "Epoch 5/10\n",
            "170884/170884 [==============================] - 9s 53us/step - loss: 0.1601 - accuracy: 0.9976 - val_loss: 0.0442 - val_accuracy: 0.9983\n",
            "Epoch 6/10\n",
            "170884/170884 [==============================] - 9s 52us/step - loss: 0.1560 - accuracy: 0.9976 - val_loss: 0.0563 - val_accuracy: 0.9983\n",
            "Epoch 7/10\n",
            "170884/170884 [==============================] - 9s 56us/step - loss: 0.1169 - accuracy: 0.9975 - val_loss: 0.0441 - val_accuracy: 0.9983\n",
            "Epoch 8/10\n",
            "170884/170884 [==============================] - 9s 53us/step - loss: 0.1015 - accuracy: 0.9976 - val_loss: 0.0683 - val_accuracy: 0.9983\n",
            "Epoch 9/10\n",
            "170884/170884 [==============================] - 9s 53us/step - loss: 0.1109 - accuracy: 0.9974 - val_loss: 0.1031 - val_accuracy: 0.9983\n",
            "Epoch 10/10\n",
            "170884/170884 [==============================] - 9s 53us/step - loss: 0.0919 - accuracy: 0.9973 - val_loss: 0.1522 - val_accuracy: 0.9983\n",
            "71202/71202 [==============================] - 2s 24us/step\n"
          ],
          "name": "stdout"
        },
        {
          "output_type": "display_data",
          "data": {
            "text/plain": [
              "[0.1933126003073555, 0.9982444047927856]"
            ]
          },
          "metadata": {
            "tags": []
          }
        },
        {
          "output_type": "display_data",
          "data": {
            "image/png": "[encoded data removed]",
            "text/plain": [
              "<Figure size 432x288 with 1 Axes>"
            ]
          },
          "metadata": {
            "tags": [],
            "needs_background": "light"
          }
        },
        {
          "output_type": "display_data",
          "data": {
            "image/png": "[encoded data removed]",
            "text/plain": [
              "<Figure size 432x288 with 1 Axes>"
            ]
          },
          "metadata": {
            "tags": [],
            "needs_background": "light"
          }
        }
      ]
    },
    {
      "cell_type": "markdown",
      "metadata": {
        "id": "AgzymuHPR9eG",
        "colab_type": "text"
      },
      "source": [
        "### Q4 Evaluate a More Complex Network (25 pts)\n",
        "\n",
        "Now increase your model's complexity and evalaute the larger model. Display learning curves too. Don't forget to more regularize it in order to avoid overfitting. You can increase your model complexity by increasing the number of neurons in the hidden layers or adding more hidden layers to the network.\n",
        "\n",
        "Increasing the model complexity helps reducing under-fitting. "
      ]
    },
    {
      "cell_type": "code",
      "metadata": {
        "id": "qeFD3q3-R9eH",
        "colab_type": "code",
        "colab": {}
      },
      "source": [
        "# !!!Your code!!!"
      ],
      "execution_count": null,
      "outputs": []
    },
    {
      "cell_type": "code",
      "metadata": {
        "id": "dlXxEutiR9eJ",
        "colab_type": "code",
        "colab": {
          "base_uri": "https://localhost:8080/",
          "height": 1000
        },
        "outputId": "53507df7-b2b3-4240-c532-7228adef135e"
      },
      "source": [
        "filters_complex = 8\n",
        "kernel_size_complex = 5\n",
        "#Describe model type \n",
        "model_complex = Sequential()\n",
        "\n",
        "# Adding 1D convolutional layer, dropout rate, max pooling fx, and dense layers\n",
        "model_complex.add(Conv1D(filters_complex, kernel_size_complex, padding = \"valid\", \n",
        "                         activation = \"relu\", input_shape = input_size))\n",
        "\n",
        "# Remove drop-out layer\n",
        "model_complex.add(GlobalMaxPooling1D())\n",
        "\n",
        "# Double the dense layers\n",
        "model_complex.add(Dense(14, activation = \"relu\"))\n",
        "\n",
        "model_complex.add(Dense(1, activation = \"sigmoid\"))\n",
        "\n",
        "model_complex.compile(loss = \"binary_crossentropy\", optimizer = \"Adam\", \n",
        "              metrics = [\"accuracy\"])\n",
        "\n",
        "# Display model parameters \n",
        "display(model_complex.summary())\n",
        "\n",
        "# Training the model with validation set\n",
        "history = model_complex.fit(X_train, y_train, epochs = epochs, \n",
        "          batch_size = batch_size, \n",
        "          validation_split = validation_split)\n",
        "\n",
        "display(model_complex.evaluate(X_test, y_test))\n",
        "\n",
        "# Display plots of loss and accuracy\n",
        "plt.plot(history.history[\"loss\"])\n",
        "plt.plot(history.history[\"val_loss\"])\n",
        "plt.show()\n",
        "\n",
        "plt.plot(history.history[\"accuracy\"])\n",
        "plt.plot(history.history[\"val_accuracy\"])\n",
        "plt.show()"
      ],
      "execution_count": null,
      "outputs": [
        {
          "output_type": "stream",
          "text": [
            "Model: \"sequential_22\"\n",
            "_________________________________________________________________\n",
            "Layer (type)                 Output Shape              Param #   \n",
            "=================================================================\n",
            "conv1d_22 (Conv1D)           (None, 26, 8)             48        \n",
            "_________________________________________________________________\n",
            "global_max_pooling1d_22 (Glo (None, 8)                 0         \n",
            "_________________________________________________________________\n",
            "dense_43 (Dense)             (None, 14)                126       \n",
            "_________________________________________________________________\n",
            "dense_44 (Dense)             (None, 1)                 15        \n",
            "=================================================================\n",
            "Total params: 189\n",
            "Trainable params: 189\n",
            "Non-trainable params: 0\n",
            "_________________________________________________________________\n"
          ],
          "name": "stdout"
        },
        {
          "output_type": "display_data",
          "data": {
            "text/plain": [
              "None"
            ]
          },
          "metadata": {
            "tags": []
          }
        },
        {
          "output_type": "stream",
          "text": [
            "Train on 170884 samples, validate on 42721 samples\n",
            "Epoch 1/10\n",
            "170884/170884 [==============================] - 9s 55us/step - loss: 1.8459 - accuracy: 0.9944 - val_loss: 0.0545 - val_accuracy: 0.9933\n",
            "Epoch 2/10\n",
            "170884/170884 [==============================] - 9s 53us/step - loss: 0.2977 - accuracy: 0.9970 - val_loss: 0.0086 - val_accuracy: 0.9988\n",
            "Epoch 3/10\n",
            "170884/170884 [==============================] - 11s 62us/step - loss: 0.0163 - accuracy: 0.9986 - val_loss: 0.0066 - val_accuracy: 0.9988\n",
            "Epoch 4/10\n",
            "170884/170884 [==============================] - 10s 61us/step - loss: 0.0079 - accuracy: 0.9986 - val_loss: 0.0055 - val_accuracy: 0.9989\n",
            "Epoch 5/10\n",
            "170884/170884 [==============================] - 9s 54us/step - loss: 0.0069 - accuracy: 0.9987 - val_loss: 0.0086 - val_accuracy: 0.9985\n",
            "Epoch 6/10\n",
            "170884/170884 [==============================] - 9s 54us/step - loss: 0.0061 - accuracy: 0.9988 - val_loss: 0.0041 - val_accuracy: 0.9990\n",
            "Epoch 7/10\n",
            "170884/170884 [==============================] - 9s 54us/step - loss: 0.0078 - accuracy: 0.9988 - val_loss: 0.0040 - val_accuracy: 0.9992\n",
            "Epoch 8/10\n",
            "170884/170884 [==============================] - 9s 54us/step - loss: 0.0051 - accuracy: 0.9988 - val_loss: 0.0038 - val_accuracy: 0.9993\n",
            "Epoch 9/10\n",
            "170884/170884 [==============================] - 9s 54us/step - loss: 0.0058 - accuracy: 0.9989 - val_loss: 0.0040 - val_accuracy: 0.9991\n",
            "Epoch 10/10\n",
            "170884/170884 [==============================] - 9s 54us/step - loss: 0.0097 - accuracy: 0.9989 - val_loss: 0.0038 - val_accuracy: 0.9993\n",
            "71202/71202 [==============================] - 2s 21us/step\n"
          ],
          "name": "stdout"
        },
        {
          "output_type": "display_data",
          "data": {
            "text/plain": [
              "[0.005459030228058414, 0.9990309476852417]"
            ]
          },
          "metadata": {
            "tags": []
          }
        },
        {
          "output_type": "display_data",
          "data": {
            "image/png": "[encoded data removed]",
            "text/plain": [
              "<Figure size 432x288 with 1 Axes>"
            ]
          },
          "metadata": {
            "tags": [],
            "needs_background": "light"
          }
        },
        {
          "output_type": "display_data",
          "data": {
            "image/png": "[encoded data removed]",
            "text/plain": [
              "<Figure size 432x288 with 1 Axes>"
            ]
          },
          "metadata": {
            "tags": [],
            "needs_background": "light"
          }
        }
      ]
    }
  ]
}

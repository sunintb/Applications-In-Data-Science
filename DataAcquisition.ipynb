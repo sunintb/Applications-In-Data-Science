{
  "nbformat": 4,
  "nbformat_minor": 0,
  "metadata": {
    "interactive_sols": {
      "cbx_id": 1
    },
    "kernelspec": {
      "display_name": "Python 3",
      "language": "python",
      "name": "python3"
    },
    "language_info": {
      "codemirror_mode": {
        "name": "ipython",
        "version": 3
      },
      "file_extension": ".py",
      "mimetype": "text/x-python",
      "name": "python",
      "nbconvert_exporter": "python",
      "pygments_lexer": "ipython3",
      "version": "3.7.6"
    },
    "latex_envs": {
      "LaTeX_envs_menu_present": true,
      "autocomplete": true,
      "bibliofile": "biblio.bib",
      "cite_by": "apalike",
      "current_citInitial": 1,
      "eqLabelWithNumbers": true,
      "eqNumInitial": 1,
      "hotkeys": {
        "equation": "Ctrl-E",
        "itemize": "Ctrl-I"
      },
      "labels_anchors": false,
      "latex_user_defs": false,
      "report_style_numbering": false,
      "user_envs_cfg": false
    },
    "colab": {
      "name": "Copy of CS69 .09 assignment_1.ipynb",
      "provenance": [],
      "collapsed_sections": []
    }
  },
  "cells": [
    {
      "cell_type": "markdown",
      "metadata": {
        "id": "vFx3vrPt3iVB",
        "colab_type": "text"
      },
      "source": [
        "# Assignment 1. Data Acquisition\n",
        "\n",
        "## Introduction\n",
        "\n",
        "In this assignment, we ask you to write python code to solve three data acquisition problems. You will learn how to load CSV files, create functions in python, create plots and summary statistics, and scrape web page. \n",
        "\n",
        "### Data\n",
        "\n",
        "For this homework, you will use three datasets.\n",
        "1. NOAA Hanover Climate Data: https://www.ncdc.noaa.gov/cdo-web/\n",
        "2. S&P 500, Dow Jones Industrial Average, Nasdaq Composite\n",
        "3. [Rotten Tomatoes Weekend Box Office Chart](https://www.rottentomatoes.com/browse/box-office/)\n",
        "\n",
        "### Useful libraries\n",
        "\n",
        "- pandas\n",
        "- matplotlib\n",
        "- numpy\n",
        "- [pandas-datareader](https://pandas-datareader.readthedocs.io/en/latest/)\n",
        "- [Beautiful Soup](https://www.crummy.com/software/BeautifulSoup/bs4/doc/)\n",
        "\n",
        "### References\n",
        "\n",
        "Chapter 2, 3, and 9 in Data Science from Scratch.\n"
      ]
    },
    {
      "cell_type": "markdown",
      "metadata": {
        "id": "9SDOYak43iVC",
        "colab_type": "text"
      },
      "source": [
        "# Problem 1 Hanover Climate Data"
      ]
    },
    {
      "cell_type": "markdown",
      "metadata": {
        "id": "h6pF5C5k3iVC",
        "colab_type": "text"
      },
      "source": [
        "## Q1 Load the CSV file.\n",
        "\n",
        "The data file is [NOAA_Hanover.csv](https://drive.google.com/file/d/1JX7HLX8B8qgEJ4q19qEg6VuMeQe4OS8H/view?usp=sharing). write a function to load the file to pandas dataframe and return the dataframe.\n",
        "\n",
        "Note:\n",
        "- The data type of the \"DATE\" column should be datetime or Timestamp.\n",
        "- Rows should be sorted by \"DATE\"."
      ]
    },
    {
      "cell_type": "code",
      "metadata": {
        "id": "ZMieSS6k3iVD",
        "colab_type": "code",
        "colab": {}
      },
      "source": [
        "import pandas as pd\n",
        "from matplotlib import pyplot as plt\n",
        "%matplotlib inline"
      ],
      "execution_count": 3,
      "outputs": []
    },
    {
      "cell_type": "code",
      "metadata": {
        "id": "t8WAknjV7jQd",
        "colab_type": "code",
        "colab": {}
      },
      "source": [
        "# Code to read csv file into Colaboratory:\n",
        "!pip install -U -q PyDrive\n",
        "from pydrive.auth import GoogleAuth\n",
        "from pydrive.drive import GoogleDrive\n",
        "from google.colab import auth\n",
        "from oauth2client.client import GoogleCredentials\n",
        "# Authenticate and create the PyDrive client.\n",
        "auth.authenticate_user()\n",
        "gauth = GoogleAuth()\n",
        "gauth.credentials = GoogleCredentials.get_application_default()\n",
        "drive = GoogleDrive(gauth)"
      ],
      "execution_count": 4,
      "outputs": []
    },
    {
      "cell_type": "code",
      "metadata": {
        "id": "dqvW8tOk7m3Y",
        "colab_type": "code",
        "colab": {}
      },
      "source": [
        "drive.CreateFile({'id': '1JX7HLX8B8qgEJ4q19qEg6VuMeQe4OS8H'}).GetContentFile('NOAA_Hanover.csv')\n",
        "def readAndReturn():\n",
        "  data = pd.read_csv(\"NOAA_Hanover.csv\")\n",
        "  return data\n"
      ],
      "execution_count": 6,
      "outputs": []
    },
    {
      "cell_type": "markdown",
      "metadata": {
        "id": "N7USuAtO3iVI",
        "colab_type": "text"
      },
      "source": [
        "## Q2 Show the data (15 point)\n",
        "\n",
        "Write python code in the following cell to:\n",
        "- Print out all column names.\n",
        "- Show the first 10 rows of the dataframe.\n",
        "- Show the date range of the data.\n",
        "- Print out the percentage of missing values for columns \"TMIN\", \"TMAX\", and \"PRCP\"?\n",
        "- Find min, median, max, mean, and std of \"TMIN\", \"TMAX\", and \"PRCP\"."
      ]
    },
    {
      "cell_type": "code",
      "metadata": {
        "id": "vRIGMXZG3iVJ",
        "colab_type": "code",
        "colab": {
          "base_uri": "https://localhost:8080/",
          "height": 1000
        },
        "outputId": "57871eab-e9df-446b-e741-029d80d425ba"
      },
      "source": [
        "hanover_data = pd.read_csv('NOAA_Hanover.csv')\n",
        "\n",
        "# write your code in here\n",
        "for col in hanover_data.columns: \n",
        "    print(col) \n",
        "\n",
        "rows = hanover_data.head(10)\n",
        "print(rows)\n",
        "\n",
        "dates = pd.date_range(start ='1-11-1884', end ='2-28-2018', periods =2) \n",
        "print('Date Range:', dates)\n",
        "cols = [6,12,14]\n",
        "colsData = hanover_data[hanover_data.columns[cols]]\n",
        "\n",
        "\n",
        "percent_missing = colsData.isnull().sum() * 100 / len(hanover_data)\n",
        "print(percent_missing)\n",
        "\n",
        "colsData.describe()"
      ],
      "execution_count": 7,
      "outputs": [
        {
          "output_type": "stream",
          "text": [
            "STATION\n",
            "NAME\n",
            "LATITUDE\n",
            "LONGITUDE\n",
            "ELEVATION\n",
            "DATE\n",
            "PRCP\n",
            "PRCP_ATTRIBUTES\n",
            "SNOW\n",
            "SNOW_ATTRIBUTES\n",
            "SNWD\n",
            "SNWD_ATTRIBUTES\n",
            "TMAX\n",
            "TMAX_ATTRIBUTES\n",
            "TMIN\n",
            "TMIN_ATTRIBUTES\n",
            "TOBS\n",
            "TOBS_ATTRIBUTES\n",
            "WT01\n",
            "WT01_ATTRIBUTES\n",
            "WT03\n",
            "WT03_ATTRIBUTES\n",
            "WT04\n",
            "WT04_ATTRIBUTES\n",
            "WT05\n",
            "WT05_ATTRIBUTES\n",
            "WT06\n",
            "WT06_ATTRIBUTES\n",
            "WT07\n",
            "WT07_ATTRIBUTES\n",
            "WT08\n",
            "WT08_ATTRIBUTES\n",
            "WT09\n",
            "WT09_ATTRIBUTES\n",
            "WT11\n",
            "WT11_ATTRIBUTES\n",
            "WT14\n",
            "WT14_ATTRIBUTES\n",
            "WT16\n",
            "WT16_ATTRIBUTES\n",
            "WT18\n",
            "WT18_ATTRIBUTES\n",
            "       STATION              NAME  ...  WT18  WT18_ATTRIBUTES\n",
            "0  USC00273855  HANOVER 2, NH US  ...   NaN              NaN\n",
            "1  USC00273855  HANOVER 2, NH US  ...   NaN              NaN\n",
            "2  USC00273855  HANOVER 2, NH US  ...   NaN              NaN\n",
            "3  USC00273855  HANOVER 2, NH US  ...   NaN              NaN\n",
            "4  USC00273855  HANOVER 2, NH US  ...   NaN              NaN\n",
            "5  USC00273855  HANOVER 2, NH US  ...   NaN              NaN\n",
            "6  USC00273855  HANOVER 2, NH US  ...   NaN              NaN\n",
            "7  USC00273855  HANOVER 2, NH US  ...   NaN              NaN\n",
            "8  USC00273855  HANOVER 2, NH US  ...   NaN              NaN\n",
            "9  USC00273855  HANOVER 2, NH US  ...   NaN              NaN\n",
            "\n",
            "[10 rows x 42 columns]\n",
            "Date Range: DatetimeIndex(['1884-01-11', '2018-02-28'], dtype='datetime64[ns]', freq=None)\n",
            "PRCP    5.181708\n",
            "TMAX    7.815607\n",
            "TMIN    7.674175\n",
            "dtype: float64\n"
          ],
          "name": "stdout"
        },
        {
          "output_type": "stream",
          "text": [
            "/usr/local/lib/python3.6/dist-packages/IPython/core/interactiveshell.py:2718: DtypeWarning: Columns (27,29,31,33,37,39,41) have mixed types.Specify dtype option on import or set low_memory=False.\n",
            "  interactivity=interactivity, compiler=compiler, result=result)\n"
          ],
          "name": "stderr"
        },
        {
          "output_type": "execute_result",
          "data": {
            "text/html": [
              "<div>\n",
              "<style scoped>\n",
              "    .dataframe tbody tr th:only-of-type {\n",
              "        vertical-align: middle;\n",
              "    }\n",
              "\n",
              "    .dataframe tbody tr th {\n",
              "        vertical-align: top;\n",
              "    }\n",
              "\n",
              "    .dataframe thead th {\n",
              "        text-align: right;\n",
              "    }\n",
              "</style>\n",
              "<table border=\"1\" class=\"dataframe\">\n",
              "  <thead>\n",
              "    <tr style=\"text-align: right;\">\n",
              "      <th></th>\n",
              "      <th>PRCP</th>\n",
              "      <th>TMAX</th>\n",
              "      <th>TMIN</th>\n",
              "    </tr>\n",
              "  </thead>\n",
              "  <tbody>\n",
              "    <tr>\n",
              "      <th>count</th>\n",
              "      <td>46259.000000</td>\n",
              "      <td>44974.000000</td>\n",
              "      <td>45043.000000</td>\n",
              "    </tr>\n",
              "    <tr>\n",
              "      <th>mean</th>\n",
              "      <td>2.678177</td>\n",
              "      <td>13.349449</td>\n",
              "      <td>1.216533</td>\n",
              "    </tr>\n",
              "    <tr>\n",
              "      <th>std</th>\n",
              "      <td>6.764733</td>\n",
              "      <td>11.756245</td>\n",
              "      <td>10.987059</td>\n",
              "    </tr>\n",
              "    <tr>\n",
              "      <th>min</th>\n",
              "      <td>0.000000</td>\n",
              "      <td>-24.400000</td>\n",
              "      <td>-40.000000</td>\n",
              "    </tr>\n",
              "    <tr>\n",
              "      <th>25%</th>\n",
              "      <td>0.000000</td>\n",
              "      <td>3.300000</td>\n",
              "      <td>-5.600000</td>\n",
              "    </tr>\n",
              "    <tr>\n",
              "      <th>50%</th>\n",
              "      <td>0.000000</td>\n",
              "      <td>13.900000</td>\n",
              "      <td>1.700000</td>\n",
              "    </tr>\n",
              "    <tr>\n",
              "      <th>75%</th>\n",
              "      <td>1.500000</td>\n",
              "      <td>23.900000</td>\n",
              "      <td>10.000000</td>\n",
              "    </tr>\n",
              "    <tr>\n",
              "      <th>max</th>\n",
              "      <td>143.500000</td>\n",
              "      <td>39.400000</td>\n",
              "      <td>25.000000</td>\n",
              "    </tr>\n",
              "  </tbody>\n",
              "</table>\n",
              "</div>"
            ],
            "text/plain": [
              "               PRCP          TMAX          TMIN\n",
              "count  46259.000000  44974.000000  45043.000000\n",
              "mean       2.678177     13.349449      1.216533\n",
              "std        6.764733     11.756245     10.987059\n",
              "min        0.000000    -24.400000    -40.000000\n",
              "25%        0.000000      3.300000     -5.600000\n",
              "50%        0.000000     13.900000      1.700000\n",
              "75%        1.500000     23.900000     10.000000\n",
              "max      143.500000     39.400000     25.000000"
            ]
          },
          "metadata": {
            "tags": []
          },
          "execution_count": 7
        }
      ]
    },
    {
      "cell_type": "markdown",
      "metadata": {
        "id": "oVuI_iqp3iVT",
        "colab_type": "text"
      },
      "source": [
        "# Problem 2 Finance\n",
        "\n",
        "Before you start working on this problem, install pandas-datareader python library.\n",
        "\n",
        "You will implement code to download DJIA, S&P 500, and NASDAQ from FRED (Federal Reserve Economic Data) and visualize the data from 2010-01-01 to 2020-01-01."
      ]
    },
    {
      "cell_type": "markdown",
      "metadata": {
        "id": "Q5UPfjGb3iVU",
        "colab_type": "text"
      },
      "source": [
        "## Q1 Download the data (10 points)\n",
        "\n",
        "Read pandas-datareader document at https://pydata.github.io/pandas-datareader/stable/remote_data.html#remote-data-fred to figure out how to use the API to download the data. Write your code to download the data."
      ]
    },
    {
      "cell_type": "code",
      "metadata": {
        "id": "n1h-7Svx3iVU",
        "colab_type": "code",
        "colab": {
          "base_uri": "https://localhost:8080/",
          "height": 444
        },
        "outputId": "4111eee0-51b0-4db7-bebc-184180afba13"
      },
      "source": [
        "# implement your code to load DJIA, SP500, NASDAQCOM from fred\n",
        "import pandas_datareader.data as remote\n",
        "import datetime as dt\n",
        "\n",
        "start = dt.datetime(2010, 1, 1)\n",
        "end = dt.datetime(2020, 1, 1)\n",
        "\n",
        "fred = remote.DataReader(['DJIA', 'SP500', 'NASDAQCOM'], 'fred', start, end)\n",
        "fred.head(10)"
      ],
      "execution_count": null,
      "outputs": [
        {
          "output_type": "stream",
          "text": [
            "/usr/local/lib/python3.6/dist-packages/pandas_datareader/compat/__init__.py:7: FutureWarning: pandas.util.testing is deprecated. Use the functions in the public API at pandas.testing instead.\n",
            "  from pandas.util.testing import assert_frame_equal\n"
          ],
          "name": "stderr"
        },
        {
          "output_type": "execute_result",
          "data": {
            "text/html": [
              "<div>\n",
              "<style scoped>\n",
              "    .dataframe tbody tr th:only-of-type {\n",
              "        vertical-align: middle;\n",
              "    }\n",
              "\n",
              "    .dataframe tbody tr th {\n",
              "        vertical-align: top;\n",
              "    }\n",
              "\n",
              "    .dataframe thead th {\n",
              "        text-align: right;\n",
              "    }\n",
              "</style>\n",
              "<table border=\"1\" class=\"dataframe\">\n",
              "  <thead>\n",
              "    <tr style=\"text-align: right;\">\n",
              "      <th></th>\n",
              "      <th>DJIA</th>\n",
              "      <th>SP500</th>\n",
              "      <th>NASDAQCOM</th>\n",
              "    </tr>\n",
              "    <tr>\n",
              "      <th>DATE</th>\n",
              "      <th></th>\n",
              "      <th></th>\n",
              "      <th></th>\n",
              "    </tr>\n",
              "  </thead>\n",
              "  <tbody>\n",
              "    <tr>\n",
              "      <th>2010-01-01</th>\n",
              "      <td>NaN</td>\n",
              "      <td>NaN</td>\n",
              "      <td>NaN</td>\n",
              "    </tr>\n",
              "    <tr>\n",
              "      <th>2010-01-04</th>\n",
              "      <td>NaN</td>\n",
              "      <td>NaN</td>\n",
              "      <td>2308.42</td>\n",
              "    </tr>\n",
              "    <tr>\n",
              "      <th>2010-01-05</th>\n",
              "      <td>NaN</td>\n",
              "      <td>NaN</td>\n",
              "      <td>2308.71</td>\n",
              "    </tr>\n",
              "    <tr>\n",
              "      <th>2010-01-06</th>\n",
              "      <td>NaN</td>\n",
              "      <td>NaN</td>\n",
              "      <td>2301.09</td>\n",
              "    </tr>\n",
              "    <tr>\n",
              "      <th>2010-01-07</th>\n",
              "      <td>NaN</td>\n",
              "      <td>NaN</td>\n",
              "      <td>2300.05</td>\n",
              "    </tr>\n",
              "    <tr>\n",
              "      <th>2010-01-08</th>\n",
              "      <td>NaN</td>\n",
              "      <td>NaN</td>\n",
              "      <td>2317.17</td>\n",
              "    </tr>\n",
              "    <tr>\n",
              "      <th>2010-01-11</th>\n",
              "      <td>NaN</td>\n",
              "      <td>NaN</td>\n",
              "      <td>2312.41</td>\n",
              "    </tr>\n",
              "    <tr>\n",
              "      <th>2010-01-12</th>\n",
              "      <td>NaN</td>\n",
              "      <td>NaN</td>\n",
              "      <td>2282.31</td>\n",
              "    </tr>\n",
              "    <tr>\n",
              "      <th>2010-01-13</th>\n",
              "      <td>NaN</td>\n",
              "      <td>NaN</td>\n",
              "      <td>2307.90</td>\n",
              "    </tr>\n",
              "    <tr>\n",
              "      <th>2010-01-14</th>\n",
              "      <td>NaN</td>\n",
              "      <td>NaN</td>\n",
              "      <td>2316.74</td>\n",
              "    </tr>\n",
              "  </tbody>\n",
              "</table>\n",
              "</div>"
            ],
            "text/plain": [
              "            DJIA  SP500  NASDAQCOM\n",
              "DATE                              \n",
              "2010-01-01   NaN    NaN        NaN\n",
              "2010-01-04   NaN    NaN    2308.42\n",
              "2010-01-05   NaN    NaN    2308.71\n",
              "2010-01-06   NaN    NaN    2301.09\n",
              "2010-01-07   NaN    NaN    2300.05\n",
              "2010-01-08   NaN    NaN    2317.17\n",
              "2010-01-11   NaN    NaN    2312.41\n",
              "2010-01-12   NaN    NaN    2282.31\n",
              "2010-01-13   NaN    NaN    2307.90\n",
              "2010-01-14   NaN    NaN    2316.74"
            ]
          },
          "metadata": {
            "tags": []
          },
          "execution_count": 6
        }
      ]
    },
    {
      "cell_type": "markdown",
      "metadata": {
        "id": "6pztHPDL3iVZ",
        "colab_type": "text"
      },
      "source": [
        "## Q2 Plot the data (15 points)\n",
        "\n",
        "Make three line plots to show how Dow Jones Industrial Average, S&P 500, and NASDAQ change over time."
      ]
    },
    {
      "cell_type": "code",
      "metadata": {
        "id": "gWDi3L1v3iVb",
        "colab_type": "code",
        "colab": {
          "base_uri": "https://localhost:8080/",
          "height": 761
        },
        "outputId": "f5e56fb1-5b4f-4520-f7f1-8c61b58bbdd2"
      },
      "source": [
        "import numpy as np\n",
        "import matplotlib.pyplot as plt\n",
        "import pandas_datareader.data as remote\n",
        "import datetime as dt\n",
        "\n",
        "start = dt.datetime(2010, 1, 1)\n",
        "end = dt.datetime(2020, 1, 1)\n",
        "\n",
        "#edit the line from last cell so NaN values are dropped\n",
        "fred = remote.DataReader(['DJIA', 'SP500', 'NASDAQCOM'], 'fred', start, end).dropna(subset=['DJIA', 'SP500', 'NASDAQCOM'])\n",
        "#index datetime so we can use it as our x axis\n",
        "fred.index = pd.to_datetime(fred.index)\n",
        "\n",
        "#DJIA graph\n",
        "plt.plot(fred.index, fred['DJIA'], label='DJIA')\n",
        "plt.legend(loc='upper left')\n",
        "#plt.yscale(min=9000, max=29000) missing 'value', steps are unclean\n",
        "yticks = np.linspace(fred['DJIA'].min(), fred['DJIA'].max(), 9)\n",
        "plt.yticks(yticks)              \n",
        "plt.show() \n",
        "\n",
        "#SP500 graph\n",
        "plt.plot(fred.index, fred['SP500'], label='SP500')\n",
        "plt.legend(loc='upper left')\n",
        "#plt.yscale(min=0, max=3500) missing 'value', steps are unclean\n",
        "yticks = np.linspace(fred['SP500'].min(), fred['SP500'].max(), 4)\n",
        "plt.yticks(yticks)              \n",
        "plt.show() \n",
        "\n",
        "#NASDAQCOM graph\n",
        "plt.plot(fred.index, fred['NASDAQCOM'], label='NASDAQCOM')\n",
        "plt.legend(loc='upper left')\n",
        "#plt.yscale(min=0, max=10000) missing 'value', steps are unclean\n",
        "yticks = np.linspace(fred['NASDAQCOM'].min(), fred['NASDAQCOM'].max(), 7)\n",
        "plt.yticks(yticks)              \n",
        "plt.show() "
      ],
      "execution_count": null,
      "outputs": [
        {
          "output_type": "display_data",
          "data": {
            "image/png": "[encoded data removed]",
            "text/plain": [
              "<Figure size 432x288 with 1 Axes>"
            ]
          },
          "metadata": {
            "tags": []
          }
        },
        {
          "output_type": "display_data",
          "data": {
            "image/png": "[encoded data removed]",
            "text/plain": [
              "<Figure size 432x288 with 1 Axes>"
            ]
          },
          "metadata": {
            "tags": []
          }
        },
        {
          "output_type": "display_data",
          "data": {
            "image/png": "[encoded data removed]",
            "text/plain": [
              "<Figure size 432x288 with 1 Axes>"
            ]
          },
          "metadata": {
            "tags": []
          }
        }
      ]
    },
    {
      "cell_type": "markdown",
      "metadata": {
        "id": "yF6wHY633iVg",
        "colab_type": "text"
      },
      "source": [
        "## Q3 Correlation (15 points)\n",
        "\n",
        "The three composite indices look similar. Compute correlations to quantify how similar they are. \n",
        "\n",
        "Hint: how do you handle missing values (i.e., nan)?"
      ]
    },
    {
      "cell_type": "code",
      "metadata": {
        "id": "SLZ63E-03iVh",
        "colab_type": "code",
        "colab": {
          "base_uri": "https://localhost:8080/",
          "height": 68
        },
        "outputId": "bb86636e-07d5-4c52-bee2-43d90286e693"
      },
      "source": [
        "from scipy import stats\n",
        "\n",
        "# stats.pearsonr gives us a tuple(r, p).\n",
        "DJSP = stats.pearsonr(fred['DJIA'], fred['SP500'])\n",
        "DJND = stats.pearsonr(fred['DJIA'], fred['NASDAQCOM'])\n",
        "NDSP = stats.pearsonr(fred['NASDAQCOM'], fred['SP500'])\n",
        "\n",
        "# we call the r and p values\n",
        "print('DJIA with SP500: R={}, p={}'.format(DJSP[0], DJSP[1]))\n",
        "print('DJIA with NASDAQCOM: R={}, p={}'.format(DJND[0], DJND[1]))\n",
        "print('NASDAQCOM with SP500: R={}, p={}'.format(NDSP[0], NDSP[1]))\n",
        "\n",
        "# .dropna() was used in an earlier cell to update the data by removing missing values.\n",
        "# Therefore the calculation had no error as it was done with no NaN values"
      ],
      "execution_count": null,
      "outputs": [
        {
          "output_type": "stream",
          "text": [
            "DJIA with SP500: R=0.993170554799352, p=0.0\n",
            "DJIA with NASDAQCOM: R=0.9951328108053659, p=0.0\n",
            "NASDAQCOM with SP500: R=0.9946520041727748, p=0.0\n"
          ],
          "name": "stdout"
        }
      ]
    }
  ]
}
